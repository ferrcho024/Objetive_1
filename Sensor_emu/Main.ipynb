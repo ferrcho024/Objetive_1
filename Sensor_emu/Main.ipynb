{
 "cells": [
  {
   "cell_type": "code",
   "execution_count": 70,
   "metadata": {},
   "outputs": [
    {
     "name": "stdout",
     "output_type": "stream",
     "text": [
      "Enviando bloque 1\n",
      "Enviando bloque 2\n",
      "Enviando bloque 3\n"
     ]
    },
    {
     "ename": "KeyboardInterrupt",
     "evalue": "",
     "output_type": "error",
     "traceback": [
      "\u001b[1;31m---------------------------------------------------------------------------\u001b[0m",
      "\u001b[1;31mKeyboardInterrupt\u001b[0m                         Traceback (most recent call last)",
      "Input \u001b[1;32mIn [70]\u001b[0m, in \u001b[0;36m<cell line: 41>\u001b[1;34m()\u001b[0m\n\u001b[0;32m     38\u001b[0m     count \u001b[38;5;241m+\u001b[39m\u001b[38;5;241m=\u001b[39m \u001b[38;5;241m1\u001b[39m\n\u001b[0;32m     40\u001b[0m \u001b[38;5;66;03m# Envia mensajes cada segundo uno por uno (los mensajes se pasan en una lista) y se desconecta cuando envía los mensajes\u001b[39;00m\n\u001b[1;32m---> 41\u001b[0m \u001b[43mnet\u001b[49m\u001b[38;5;241;43m.\u001b[39;49m\u001b[43mMQTTPublish\u001b[49m\u001b[43m(\u001b[49m\u001b[43mto_tx\u001b[49m\u001b[43m)\u001b[49m\n\u001b[0;32m     43\u001b[0m \u001b[38;5;66;03m# Envía muchos mensajes a la vez\u001b[39;00m\n\u001b[0;32m     44\u001b[0m \u001b[38;5;66;03m#msg = {'topic':\"80\", 'payload':data_df[:5]}\u001b[39;00m\n\u001b[0;32m     45\u001b[0m \n\u001b[1;32m   (...)\u001b[0m\n\u001b[0;32m     48\u001b[0m \u001b[38;5;66;03m#                    client_id=\"Python_Sensor\", keepalive=60, protocol=mqtt.client.MQTTv31)\u001b[39;00m\n\u001b[0;32m     49\u001b[0m \u001b[38;5;66;03m#    time.sleep(1)\u001b[39;00m\n",
      "File \u001b[1;32md:\\OneDrive - Universidad de Antioquia\\PhD\\Tesis\\Algoritmos\\Objetivo 1 - Git\\Objetive_1\\Sensor_emu\\Connectivity.py:32\u001b[0m, in \u001b[0;36mMQTTPublish\u001b[1;34m(data)\u001b[0m\n\u001b[0;32m     29\u001b[0m         \u001b[38;5;28mprint\u001b[39m(\u001b[38;5;124m\"\u001b[39m\u001b[38;5;124mEnviando bloque\u001b[39m\u001b[38;5;124m\"\u001b[39m, \u001b[38;5;28mint\u001b[39m(count\u001b[38;5;241m/\u001b[39m\u001b[38;5;241m60\u001b[39m) \u001b[38;5;241m+\u001b[39m \u001b[38;5;241m1\u001b[39m)\n\u001b[0;32m     30\u001b[0m         time\u001b[38;5;241m.\u001b[39msleep(\u001b[38;5;241m5\u001b[39m)\n\u001b[1;32m---> 32\u001b[0m     \u001b[43mtime\u001b[49m\u001b[38;5;241;43m.\u001b[39;49m\u001b[43msleep\u001b[49m\u001b[43m(\u001b[49m\u001b[38;5;241;43m1\u001b[39;49m\u001b[43m)\u001b[49m\n\u001b[0;32m     33\u001b[0m     count\u001b[38;5;241m+\u001b[39m\u001b[38;5;241m=\u001b[39m\u001b[38;5;241m1\u001b[39m\n\u001b[0;32m     35\u001b[0m client\u001b[38;5;241m.\u001b[39mdisconnect()\n",
      "\u001b[1;31mKeyboardInterrupt\u001b[0m: "
     ]
    }
   ],
   "source": [
    "#import multiprocessing\n",
    "import pandas as pd\n",
    "import numpy as np\n",
    "import scipy as sc\n",
    "import sys, importlib\n",
    "import paho.mqtt as mqtt\n",
    "import time\n",
    "\n",
    "import Connectivity as net\n",
    "importlib.reload(net)\n",
    "\n",
    "sensor_df = \"data/149_df.txt\"\n",
    "sensor_nova = \"data/149_nova.txt\"\n",
    "sensor_siata = \"data/80_siata.txt\"\n",
    "\n",
    "\n",
    "def leer_datos(file):\n",
    "    values = []\n",
    "    data = open(file)\n",
    "    for i in data.readlines():\n",
    "        i = i.strip()\n",
    "        values.append(i)\n",
    "    \n",
    "    data.close()\n",
    "    return values \n",
    "\n",
    "\n",
    "data_df = leer_datos(sensor_df)\n",
    "data_nova = leer_datos(sensor_nova)\n",
    "data_siata = leer_datos(sensor_siata)\n",
    "\n",
    "count=0\n",
    "to_tx = []\n",
    "for d,n in zip(data_df, data_nova):\n",
    "    if count%60 == 0:\n",
    "        s = data_siata[count//60]\n",
    "    to_tx.append(d+','+n+','+s)\n",
    "    count += 1\n",
    "\n",
    "# Envia mensajes cada segundo uno por uno (los mensajes se pasan en una lista) y se desconecta cuando envía los mensajes\n",
    "net.MQTTPublish(to_tx)\n",
    "\n",
    "# Envía muchos mensajes a la vez\n",
    "#msg = {'topic':\"80\", 'payload':data_df[:5]}\n",
    "\n",
    "#for v in data_df[:10]:\n",
    "#    mqtt.publish.single('80', v, hostname='192.168.1.104', port=1883, \n",
    "#                    client_id=\"Python_Sensor\", keepalive=60, protocol=mqtt.client.MQTTv31)\n",
    "#    time.sleep(1)\n",
    "\n"
   ]
  }
 ],
 "metadata": {
  "kernelspec": {
   "display_name": "base",
   "language": "python",
   "name": "python3"
  },
  "language_info": {
   "codemirror_mode": {
    "name": "ipython",
    "version": 3
   },
   "file_extension": ".py",
   "mimetype": "text/x-python",
   "name": "python",
   "nbconvert_exporter": "python",
   "pygments_lexer": "ipython3",
   "version": "3.9.7"
  }
 },
 "nbformat": 4,
 "nbformat_minor": 2
}

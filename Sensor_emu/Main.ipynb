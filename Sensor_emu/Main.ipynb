{
 "cells": [
  {
   "cell_type": "code",
   "execution_count": 77,
   "metadata": {},
   "outputs": [
    {
     "name": "stdout",
     "output_type": "stream",
     "text": [
      "(<MQTTErrorCode.MQTT_ERR_SUCCESS: 0>, 1)\n",
      "(<MQTTErrorCode.MQTT_ERR_SUCCESS: 0>, 2)\n",
      "(<MQTTErrorCode.MQTT_ERR_SUCCESS: 0>, 3)\n",
      "(<MQTTErrorCode.MQTT_ERR_SUCCESS: 0>, 4)\n",
      "(<MQTTErrorCode.MQTT_ERR_SUCCESS: 0>, 5)\n"
     ]
    }
   ],
   "source": [
    "#import multiprocessing\n",
    "import pandas as pd\n",
    "import numpy as np\n",
    "import scipy as sc\n",
    "import sys, importlib\n",
    "import paho.mqtt as mqtt\n",
    "import time\n",
    "\n",
    "import Connectivity as net\n",
    "importlib.reload(net)\n",
    "\n",
    "sensor_df = \"data/149_df.txt\"\n",
    "sensor_nova = \"data/149_nova.txt\"\n",
    "sensor_siata = \"data/80_siata.txt\"\n",
    "\n",
    "\n",
    "def leer_datos(file):\n",
    "    values = []\n",
    "    data = open(file)\n",
    "    for i in data.readlines():\n",
    "        i = i.strip()\n",
    "        values.append(i)\n",
    "    \n",
    "    data.close()\n",
    "    return values\n",
    "\n",
    "\n",
    "data_df = leer_datos(sensor_df)\n",
    "data_nova = leer_datos(sensor_nova)\n",
    "data_siata = leer_datos(sensor_siata)\n",
    "\n",
    "# Envia mensajes cada segundo uno por uno (los mensajes se pasan en una lista) y se desconecta cuando envía los mensajes\n",
    "net.MQTTPublish(data_df[:5])\n",
    "\n",
    "# Envía muchos mensajes a la vez\n",
    "#msg = {'topic':\"80\", 'payload':data_df[:5]}\n",
    "\n",
    "#for v in data_df[:10]:\n",
    "#    mqtt.publish.single('80', v, hostname='192.168.1.104', port=1883, \n",
    "#                    client_id=\"Python_Sensor\", keepalive=60, protocol=mqtt.client.MQTTv31)\n",
    "#    time.sleep(1)\n",
    "\n"
   ]
  },
  {
   "cell_type": "code",
   "execution_count": 51,
   "metadata": {},
   "outputs": [],
   "source": [
    "mqtt.publish.single('80', \"hola\", hostname='192.168.1.104', port=1883, \n",
    "                    client_id=\"Python_Sensor\", keepalive=60, protocol=mqtt.client.MQTTv31)"
   ]
  },
  {
   "cell_type": "code",
   "execution_count": 54,
   "metadata": {},
   "outputs": [],
   "source": [
    "msgs = []\n",
    "\n",
    "for v in data_df[:5]:\n",
    "    msgs.append({'topic':\"80\", 'payload':v})\n",
    "\n",
    "#msgs.append({'topic':\"80\", 'payload':data_df[:5]})\n",
    "\n",
    "#msg = {'topic':\"80\", 'payload':data_df[:5]}\n",
    "mqtt.publish.multiple(msgs, hostname=\"192.168.1.104\", port=1883, \n",
    "                      client_id=\"Python_Sensor\", keepalive=60, protocol=mqtt.client.MQTTv31)"
   ]
  },
  {
   "cell_type": "code",
   "execution_count": 72,
   "metadata": {},
   "outputs": [
    {
     "name": "stdout",
     "output_type": "stream",
     "text": [
      "<class 'str'>\n",
      "<class 'str'>\n",
      "<class 'str'>\n",
      "<class 'str'>\n",
      "<class 'str'>\n"
     ]
    }
   ],
   "source": [
    "import Connectivity as net\n",
    "importlib.reload(net)\n",
    "\n",
    "net.MQTTPublish(data_df)"
   ]
  },
  {
   "cell_type": "code",
   "execution_count": 24,
   "metadata": {},
   "outputs": [],
   "source": [
    "\n",
    "\n",
    "importlib.reload(net)\n",
    "\n",
    "#net.MQTTDisconnection(client)\n",
    "#client.loop_stop()\n",
    "#client.disconnect()\n",
    "#consumer_process.terminate()\n",
    "mqtt_process.terminate()\n",
    "time.sleep(2)\n",
    "mqtt_process.close()\n",
    "#consumer_process.close()"
   ]
  }
 ],
 "metadata": {
  "kernelspec": {
   "display_name": "base",
   "language": "python",
   "name": "python3"
  },
  "language_info": {
   "codemirror_mode": {
    "name": "ipython",
    "version": 3
   },
   "file_extension": ".py",
   "mimetype": "text/x-python",
   "name": "python",
   "nbconvert_exporter": "python",
   "pygments_lexer": "ipython3",
   "version": "3.9.7"
  }
 },
 "nbformat": 4,
 "nbformat_minor": 2
}

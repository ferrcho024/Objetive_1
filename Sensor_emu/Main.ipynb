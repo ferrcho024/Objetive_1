{
 "cells": [
  {
   "cell_type": "code",
   "execution_count": null,
   "metadata": {},
   "outputs": [],
   "source": [
    "#import multiprocessing\n",
    "import pandas as pd\n",
    "import numpy as np\n",
    "import scipy as sc\n",
    "import sys, importlib\n",
    "import paho.mqtt as mqtt\n",
    "import time\n",
    "\n",
    "import Connectivity as net\n",
    "importlib.reload(net)\n",
    "\n",
    "sensor_df = \"data/149_df.txt\"\n",
    "sensor_nova = \"data/149_nova.txt\"\n",
    "sensor_siata = \"data/80_siata.txt\"\n",
    "\n",
    "\n",
    "def leer_datos(file):\n",
    "    values = []\n",
    "    data = open(file)\n",
    "    for i in data.readlines():\n",
    "        i = i.strip()\n",
    "        values.append(i)\n",
    "    \n",
    "    data.close()\n",
    "    return values\n",
    "\n",
    "\n",
    "data_df = leer_datos(sensor_df)\n",
    "data_nova = leer_datos(sensor_nova)\n",
    "data_siata = leer_datos(sensor_siata)\n",
    "\n",
    "count=0\n",
    "to_tx = []\n",
    "for d,n in zip(data_df, data_nova):\n",
    "    if count%60 == 0:\n",
    "        s = data_siata[count//60]\n",
    "    to_tx.append(d+','+n+','+s)\n",
    "    count += 1\n",
    "\n",
    "# Envia mensajes cada segundo uno por uno (los mensajes se pasan en una lista) y se desconecta cuando envía los mensajes\n",
    "net.MQTTPublish(to_tx)\n",
    "\n",
    "# Envía muchos mensajes a la vez\n",
    "#msg = {'topic':\"80\", 'payload':data_df[:5]}\n",
    "\n",
    "#for v in data_df[:10]:\n",
    "#    mqtt.publish.single('80', v, hostname='192.168.1.104', port=1883, \n",
    "#                    client_id=\"Python_Sensor\", keepalive=60, protocol=mqtt.client.MQTTv31)\n",
    "#    time.sleep(1)\n",
    "\n"
   ]
  }
 ],
 "metadata": {
  "kernelspec": {
   "display_name": "base",
   "language": "python",
   "name": "python3"
  },
  "language_info": {
   "codemirror_mode": {
    "name": "ipython",
    "version": 3
   },
   "file_extension": ".py",
   "mimetype": "text/x-python",
   "name": "python",
   "nbconvert_exporter": "python",
   "pygments_lexer": "ipython3",
   "version": "3.9.7"
  }
 },
 "nbformat": 4,
 "nbformat_minor": 2
}

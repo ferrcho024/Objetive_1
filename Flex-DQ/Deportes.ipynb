{
 "cells": [
  {
   "cell_type": "code",
   "execution_count": 1,
   "metadata": {},
   "outputs": [
    {
     "name": "stderr",
     "output_type": "stream",
     "text": [
      "<frozen importlib._bootstrap>:228: RuntimeWarning: scipy._lib.messagestream.MessageStream size changed, may indicate binary incompatibility. Expected 56 from C header, got 64 from PyObject\n"
     ]
    },
    {
     "name": "stdout",
     "output_type": "stream",
     "text": [
      "No valid DataFrame entered\n"
     ]
    },
    {
     "name": "stderr",
     "output_type": "stream",
     "text": [
      "c:\\Users\\Fernando Avila\\anaconda3\\lib\\site-packages\\outdated\\utils.py:14: OutdatedPackageWarning: The package pingouin is out of date. Your version is 0.5.3, the latest is 0.5.4.\n",
      "Set the environment variable OUTDATED_IGNORE=1 to disable these warnings.\n",
      "  return warn(\n"
     ]
    },
    {
     "data": {
      "text/html": [
       "<div>\n",
       "<style scoped>\n",
       "    .dataframe tbody tr th:only-of-type {\n",
       "        vertical-align: middle;\n",
       "    }\n",
       "\n",
       "    .dataframe tbody tr th {\n",
       "        vertical-align: top;\n",
       "    }\n",
       "\n",
       "    .dataframe thead th {\n",
       "        text-align: right;\n",
       "    }\n",
       "</style>\n",
       "<table border=\"1\" class=\"dataframe\">\n",
       "  <thead>\n",
       "    <tr style=\"text-align: right;\">\n",
       "      <th></th>\n",
       "      <th>Columns</th>\n",
       "      <th>Non-NaN Count</th>\n",
       "      <th>Dtype</th>\n",
       "      <th>DtypeDetec</th>\n",
       "    </tr>\n",
       "  </thead>\n",
       "  <tbody>\n",
       "    <tr>\n",
       "      <th>0</th>\n",
       "      <td>Jugadora</td>\n",
       "      <td>866</td>\n",
       "      <td>object</td>\n",
       "      <td>(String, 100)</td>\n",
       "    </tr>\n",
       "    <tr>\n",
       "      <th>1</th>\n",
       "      <td>Sesion</td>\n",
       "      <td>866</td>\n",
       "      <td>int64</td>\n",
       "      <td>(Number, 100)</td>\n",
       "    </tr>\n",
       "    <tr>\n",
       "      <th>2</th>\n",
       "      <td>Tipo</td>\n",
       "      <td>866</td>\n",
       "      <td>object</td>\n",
       "      <td>(String, 100)</td>\n",
       "    </tr>\n",
       "    <tr>\n",
       "      <th>3</th>\n",
       "      <td>Posicion</td>\n",
       "      <td>866</td>\n",
       "      <td>object</td>\n",
       "      <td>(String, 100)</td>\n",
       "    </tr>\n",
       "    <tr>\n",
       "      <th>4</th>\n",
       "      <td>Diasemana</td>\n",
       "      <td>64</td>\n",
       "      <td>object</td>\n",
       "      <td>(String, 100)</td>\n",
       "    </tr>\n",
       "    <tr>\n",
       "      <th>...</th>\n",
       "      <td>...</td>\n",
       "      <td>...</td>\n",
       "      <td>...</td>\n",
       "      <td>...</td>\n",
       "    </tr>\n",
       "    <tr>\n",
       "      <th>241</th>\n",
       "      <td>[10-25.5]w/kg(ms)</td>\n",
       "      <td>866</td>\n",
       "      <td>int64</td>\n",
       "      <td>(Number, 100)</td>\n",
       "    </tr>\n",
       "    <tr>\n",
       "      <th>242</th>\n",
       "      <td>[25.5-35]w/kg(ms)</td>\n",
       "      <td>866</td>\n",
       "      <td>int64</td>\n",
       "      <td>(Number, 100)</td>\n",
       "    </tr>\n",
       "    <tr>\n",
       "      <th>243</th>\n",
       "      <td>[35-55]w/kg(ms)</td>\n",
       "      <td>866</td>\n",
       "      <td>int64</td>\n",
       "      <td>(Number, 100)</td>\n",
       "    </tr>\n",
       "    <tr>\n",
       "      <th>244</th>\n",
       "      <td>[55-100]w/kg(ms)</td>\n",
       "      <td>866</td>\n",
       "      <td>int64</td>\n",
       "      <td>(Number, 100)</td>\n",
       "    </tr>\n",
       "    <tr>\n",
       "      <th>245</th>\n",
       "      <td>Signal</td>\n",
       "      <td>866</td>\n",
       "      <td>object</td>\n",
       "      <td>(String, 100)</td>\n",
       "    </tr>\n",
       "  </tbody>\n",
       "</table>\n",
       "<p>246 rows × 4 columns</p>\n",
       "</div>"
      ],
      "text/plain": [
       "               Columns Non-NaN Count   Dtype     DtypeDetec\n",
       "0             Jugadora           866  object  (String, 100)\n",
       "1               Sesion           866   int64  (Number, 100)\n",
       "2                 Tipo           866  object  (String, 100)\n",
       "3             Posicion           866  object  (String, 100)\n",
       "4            Diasemana            64  object  (String, 100)\n",
       "..                 ...           ...     ...            ...\n",
       "241  [10-25.5]w/kg(ms)           866   int64  (Number, 100)\n",
       "242  [25.5-35]w/kg(ms)           866   int64  (Number, 100)\n",
       "243    [35-55]w/kg(ms)           866   int64  (Number, 100)\n",
       "244   [55-100]w/kg(ms)           866   int64  (Number, 100)\n",
       "245             Signal           866  object  (String, 100)\n",
       "\n",
       "[246 rows x 4 columns]"
      ]
     },
     "metadata": {},
     "output_type": "display_data"
    },
    {
     "name": "stdout",
     "output_type": "stream",
     "text": [
      "Total length: 866 rows\n"
     ]
    }
   ],
   "source": [
    "import General_f as Gf\n",
    "import pandas as pd\n",
    "pd.set_option(\"display.precision\", 2)\n",
    "import numpy as np\n",
    "import importlib\n",
    "import wx\n",
    "import DQ_measure_f as DQf\n",
    "from matplotlib import pyplot as plt\n",
    "from IPython.display import display\n",
    "from matplotlib import pyplot as plt\n",
    "\n",
    "pd.options.mode.chained_assignment = None  # default='warn' --- Para quitar los warnings de pandas y python\n",
    "\n",
    "importlib.reload(Gf)\n",
    "df,_ = Gf.check_df()\n",
    "\n"
   ]
  },
  {
   "cell_type": "code",
   "execution_count": 4,
   "metadata": {},
   "outputs": [],
   "source": [
    "df_ideal = df.copy()"
   ]
  },
  {
   "cell_type": "code",
   "execution_count": 8,
   "metadata": {},
   "outputs": [],
   "source": [
    "pd.set_option('display.max_rows', None)\n",
    "pd.set_option('display.max_columns', None)\n"
   ]
  },
  {
   "cell_type": "code",
   "execution_count": 2,
   "metadata": {},
   "outputs": [],
   "source": [
    "import General_f as Gf\n",
    "import importlib\n",
    "importlib.reload(Gf)\n",
    "import wx\n",
    "\n",
    "app = wx.App()\n",
    "frame = Gf.MyFrame()\n",
    "frame.CenterOnScreen()\n",
    "app.SetTopWindow(frame)\n",
    "app.MainLoop()\n",
    "app.Destroy()\n"
   ]
  },
  {
   "cell_type": "code",
   "execution_count": 3,
   "metadata": {},
   "outputs": [
    {
     "data": {
      "text/html": [
       "<div>\n",
       "<style scoped>\n",
       "    .dataframe tbody tr th:only-of-type {\n",
       "        vertical-align: middle;\n",
       "    }\n",
       "\n",
       "    .dataframe tbody tr th {\n",
       "        vertical-align: top;\n",
       "    }\n",
       "\n",
       "    .dataframe thead th {\n",
       "        text-align: right;\n",
       "    }\n",
       "</style>\n",
       "<table border=\"1\" class=\"dataframe\">\n",
       "  <thead>\n",
       "    <tr style=\"text-align: right;\">\n",
       "      <th></th>\n",
       "      <th>Columns</th>\n",
       "      <th>Non-NaN Count</th>\n",
       "      <th>Dtype</th>\n",
       "      <th>DtypeDetec</th>\n",
       "    </tr>\n",
       "  </thead>\n",
       "  <tbody>\n",
       "    <tr>\n",
       "      <th>0</th>\n",
       "      <td>Jugadora</td>\n",
       "      <td>68</td>\n",
       "      <td>object</td>\n",
       "      <td>(String, 100)</td>\n",
       "    </tr>\n",
       "    <tr>\n",
       "      <th>1</th>\n",
       "      <td>Sesion</td>\n",
       "      <td>68</td>\n",
       "      <td>int64</td>\n",
       "      <td>(Number, 100)</td>\n",
       "    </tr>\n",
       "    <tr>\n",
       "      <th>2</th>\n",
       "      <td>Tipo</td>\n",
       "      <td>68</td>\n",
       "      <td>object</td>\n",
       "      <td>(String, 100)</td>\n",
       "    </tr>\n",
       "    <tr>\n",
       "      <th>3</th>\n",
       "      <td>Posicion</td>\n",
       "      <td>68</td>\n",
       "      <td>object</td>\n",
       "      <td>(String, 100)</td>\n",
       "    </tr>\n",
       "    <tr>\n",
       "      <th>4</th>\n",
       "      <td>Diasemana</td>\n",
       "      <td>8</td>\n",
       "      <td>object</td>\n",
       "      <td>(String, 100)</td>\n",
       "    </tr>\n",
       "    <tr>\n",
       "      <th>...</th>\n",
       "      <td>...</td>\n",
       "      <td>...</td>\n",
       "      <td>...</td>\n",
       "      <td>...</td>\n",
       "    </tr>\n",
       "    <tr>\n",
       "      <th>241</th>\n",
       "      <td>[10-25,5]w/kg(ms)</td>\n",
       "      <td>68</td>\n",
       "      <td>float64</td>\n",
       "      <td>(Number, 100)</td>\n",
       "    </tr>\n",
       "    <tr>\n",
       "      <th>242</th>\n",
       "      <td>[25,5-35]w/kg(ms)</td>\n",
       "      <td>68</td>\n",
       "      <td>float64</td>\n",
       "      <td>(Number, 100)</td>\n",
       "    </tr>\n",
       "    <tr>\n",
       "      <th>243</th>\n",
       "      <td>[35-55]w/kg(ms)</td>\n",
       "      <td>68</td>\n",
       "      <td>float64</td>\n",
       "      <td>(Number, 100)</td>\n",
       "    </tr>\n",
       "    <tr>\n",
       "      <th>244</th>\n",
       "      <td>[55-100]w/kg(ms)</td>\n",
       "      <td>68</td>\n",
       "      <td>float64</td>\n",
       "      <td>(Number, 100)</td>\n",
       "    </tr>\n",
       "    <tr>\n",
       "      <th>245</th>\n",
       "      <td>Signal</td>\n",
       "      <td>68</td>\n",
       "      <td>object</td>\n",
       "      <td>(String, 100)</td>\n",
       "    </tr>\n",
       "  </tbody>\n",
       "</table>\n",
       "<p>246 rows × 4 columns</p>\n",
       "</div>"
      ],
      "text/plain": [
       "               Columns Non-NaN Count    Dtype     DtypeDetec\n",
       "0             Jugadora            68   object  (String, 100)\n",
       "1               Sesion            68    int64  (Number, 100)\n",
       "2                 Tipo            68   object  (String, 100)\n",
       "3             Posicion            68   object  (String, 100)\n",
       "4            Diasemana             8   object  (String, 100)\n",
       "..                 ...           ...      ...            ...\n",
       "241  [10-25,5]w/kg(ms)            68  float64  (Number, 100)\n",
       "242  [25,5-35]w/kg(ms)            68  float64  (Number, 100)\n",
       "243    [35-55]w/kg(ms)            68  float64  (Number, 100)\n",
       "244   [55-100]w/kg(ms)            68  float64  (Number, 100)\n",
       "245             Signal            68   object  (String, 100)\n",
       "\n",
       "[246 rows x 4 columns]"
      ]
     },
     "metadata": {},
     "output_type": "display_data"
    },
    {
     "name": "stdout",
     "output_type": "stream",
     "text": [
      "Total length: 68 rows\n"
     ]
    }
   ],
   "source": [
    "importlib.reload(Gf)\n",
    "player = 'Andrea'\n",
    "muestra = df[df['Jugadora'] == player]\n",
    "\n",
    "_,dff = Gf.check_df(muestra)"
   ]
  },
  {
   "cell_type": "code",
   "execution_count": 3,
   "metadata": {},
   "outputs": [
    {
     "name": "stderr",
     "output_type": "stream",
     "text": [
      "d:\\OneDrive - Universidad de Antioquia\\PhD\\Pasantia\\W en Deusto\\DataQualityIndex\\Deportes\\DQ_measure_f.py:253: RuntimeWarning: invalid value encountered in scalar divide\n",
      "  res = (data[c] > threshold).sum()/data[c].count()\n",
      "d:\\OneDrive - Universidad de Antioquia\\PhD\\Pasantia\\W en Deusto\\DataQualityIndex\\Deportes\\DQ_measure_f.py:257: FutureWarning: The behavior of DataFrame concatenation with empty or all-NA entries is deprecated. In a future version, this will no longer exclude empty or all-NA columns when determining the result dtypes. To retain the old behavior, exclude the relevant entries before the concat operation.\n",
      "  outliers = pd.concat([outliers, pd.DataFrame({'Column': c,\n"
     ]
    },
    {
     "name": "stdout",
     "output_type": "stream",
     "text": [
      "{'Consistency': 1.0, 'Diversity': 0.31, 'Completeness': 0.97, 'Duplicity': 0.84, 'Volume': 0.0, 'Precision': 0.22, 'Outliers': 0.95, 'Uncertainty': 0.51}\n",
      "DQ_index: 0.59\n"
     ]
    }
   ],
   "source": [
    "importlib.reload(DQf)\n",
    "datos = df.copy()\n",
    "DQ_dim = {}\n",
    "if frame.dimensions['Consistency'] > 0:\n",
    "    cons,noCons,muestra = DQf.consistency(datos, clean=False)\n",
    "    if not pd.isna(cons):\n",
    "        DQ_dim['Consistency'] = cons\n",
    "\n",
    "if frame.dimensions['Diversity'] > 0:\n",
    "    div, _, muestra = DQf.diversity(datos, clean=False)\n",
    "    if not pd.isna(div):\n",
    "        DQ_dim['Diversity'] = div\n",
    "  \n",
    "if frame.dimensions['Completeness'] > 0:\n",
    "    compl, muestra = DQf.completeness(datos, clean=False)\n",
    "    if not pd.isna(compl):\n",
    "        DQ_dim['Completeness'] = compl\n",
    "\n",
    "if frame.dimensions['Duplicity'] > 0:\n",
    "    dup,_,muestra = DQf.duplicity(datos, clean=False)\n",
    "    if not pd.isna(dup):\n",
    "        DQ_dim['Duplicity'] = dup\n",
    "\n",
    "if frame.dimensions['Volume'] > 0:\n",
    "    vol,muestra = DQf.volume(datos, clean=False)\n",
    "    if not pd.isna(vol):\n",
    "        DQ_dim['Volume'] = vol\n",
    "\n",
    "if frame.dimensions['Precision'] > 0:\n",
    "    prec,muestra = DQf.precision(datos)\n",
    "    if not pd.isna(prec):\n",
    "        DQ_dim['Precision'] = prec\n",
    "\n",
    "if frame.dimensions['Outliers'] > 0:\n",
    "    out,muestra = DQf.outliers(datos)\n",
    "    if not pd.isna(out):\n",
    "        DQ_dim['Outliers'] = out   \n",
    "\n",
    "if frame.dimensions['Uncertainty'] > 0:\n",
    "    unc,muestra = DQf.uncertainty(datos)\n",
    "    if not pd.isna(unc):\n",
    "        DQ_dim['Uncertainty'] = unc\n",
    "\n",
    "DQ_Index = 0\n",
    "for d in DQ_dim.keys():\n",
    "    DQ_Index += round((frame.dimensions[d]/sum(frame.dimensions.values())*DQ_dim[d]),2)\n",
    "print(DQ_dim)\n",
    "print('DQ_index:',round(DQ_Index,2))"
   ]
  },
  {
   "cell_type": "code",
   "execution_count": 4,
   "metadata": {},
   "outputs": [
    {
     "data": {
      "image/png": "[encoded data removed]",
      "text/plain": [
       "<Figure size 432x432 with 1 Axes>"
      ]
     },
     "metadata": {
      "needs_background": "light"
     },
     "output_type": "display_data"
    }
   ],
   "source": [
    "\n",
    "dims = list(DQ_dim.keys())\n",
    "dims = [*dims, dims[0]]\n",
    "\n",
    "scores = list(DQ_dim.values())\n",
    "scores = [*scores, scores[0]]\n",
    "\n",
    "label_loc = np.linspace(start=0, stop=2 * np.pi, num=len(dims))\n",
    "\n",
    "plt.figure(figsize=(6,6))\n",
    "plt.subplot(polar=True)\n",
    "plt.plot(label_loc, scores, 'o-')\n",
    "plt.title('Dimensions', size=20)\n",
    "plt.thetagrids(np.degrees(label_loc), labels=dims)\n",
    "plt.fill(label_loc, scores, alpha=0.25)\n",
    "plt.yticks([0.1,0.2,0.3,0.4,0.5,0.6,0.7,0.8,0.9,1])\n",
    "plt.ylim(0,1)\n",
    "#plt.savefig('ideal_lvl1.svg', format='svg')\n",
    "plt.show()"
   ]
  },
  {
   "cell_type": "code",
   "execution_count": null,
   "metadata": {},
   "outputs": [],
   "source": [
    "ref = pd.Series([1,22,3,4,5,6])\n",
    "res = muestra['Sesion']\n",
    "res.reset_index(inplace=True, drop=True)\n",
    "\n",
    "pd.concat([res, ref], axis=1)\n",
    "#muestra.reset_index(drop=True)\n",
    "\n"
   ]
  },
  {
   "cell_type": "code",
   "execution_count": null,
   "metadata": {},
   "outputs": [],
   "source": [
    "print((df['Sesion'].nunique(dropna=True)/len(df['Sesion'])))\n",
    "\n",
    "\n",
    "((np.log(df['Sesion'].value_counts()/len(df['Sesion']))*(df['Sesion'].value_counts()/len(df['Sesion']))).sum()*-1)/df['Sesion'].nunique(dropna=True)\n",
    "\n",
    "df['Sesion'].values()\n"
   ]
  },
  {
   "cell_type": "code",
   "execution_count": 5,
   "metadata": {},
   "outputs": [
    {
     "name": "stdout",
     "output_type": "stream",
     "text": [
      "Propuesta: 0.01 \n",
      "Shannon: 0.95 \n",
      "Gini-Simpson: 0.01 \n",
      "Simpson: 0.99 \n",
      "*********************\n",
      "TOTAL ESPECIES: 2 \n",
      "TOTAL DATOS: 201\n"
     ]
    }
   ],
   "source": [
    "### COMPARACIÓN CÁLCULO DE DIVERSIDAD\n",
    "# https://ecopy.readthedocs.io/en/latest/diversity.html\n",
    "\n",
    "especies = {'A':1,\n",
    "            'B':200}\n",
    "\n",
    "#########################################\n",
    "# No hay ponderación o pesos/importancia de cada especie\n",
    "mio = (len(especies)/sum(especies.values()))\n",
    "\n",
    "######################################\n",
    "# Hay peso para cada especie de acuerdo con el número de veces que se repite\n",
    "shannon = 0\n",
    "for d in especies:\n",
    "    shannon += (especies[d]/sum(especies.values()))*np.log(especies[d]/sum(especies.values()))\n",
    "\n",
    "shannon = 1 - (abs(shannon)/np.log(len(especies)))\n",
    "\n",
    "######################################\n",
    "# Hay peso para cada especie de acuerdo con el número de veces que se repite\n",
    "gini = 0\n",
    "for d in especies:\n",
    "    gini += (especies[d]/sum(especies.values()))**2\n",
    "\n",
    "gini = 1 - gini\n",
    "\n",
    "######################################\n",
    "# Hay peso para cada especie de acuerdo con el número de veces que se repite\n",
    "simpson = 0\n",
    "for d in especies:\n",
    "    simpson += (especies[d]/sum(especies.values()))**2\n",
    "\n",
    "print('Propuesta:',round(mio,2),'\\nShannon:',round(shannon,2),'\\nGini-Simpson:',round(gini,2),'\\nSimpson:',round(simpson,2),'\\n*********************\\nTOTAL ESPECIES:',len(especies),'\\nTOTAL DATOS:',sum(especies.values()))"
   ]
  },
  {
   "cell_type": "code",
   "execution_count": 6,
   "metadata": {},
   "outputs": [
    {
     "ename": "NameError",
     "evalue": "name 'frame' is not defined",
     "output_type": "error",
     "traceback": [
      "\u001b[1;31m---------------------------------------------------------------------------\u001b[0m",
      "\u001b[1;31mNameError\u001b[0m                                 Traceback (most recent call last)",
      "Input \u001b[1;32mIn [6]\u001b[0m, in \u001b[0;36m<cell line: 3>\u001b[1;34m()\u001b[0m\n\u001b[0;32m      1\u001b[0m importlib\u001b[38;5;241m.\u001b[39mreload(DQf)\n\u001b[1;32m----> 3\u001b[0m \u001b[38;5;28;01mif\u001b[39;00m \u001b[43mframe\u001b[49m\u001b[38;5;241m.\u001b[39mdimensions[\u001b[38;5;124m'\u001b[39m\u001b[38;5;124mlegibility\u001b[39m\u001b[38;5;124m'\u001b[39m] \u001b[38;5;241m>\u001b[39m \u001b[38;5;241m0\u001b[39m:\n\u001b[0;32m      4\u001b[0m     cons,noCons,muestra \u001b[38;5;241m=\u001b[39m DQf\u001b[38;5;241m.\u001b[39mconsistency(muestra, clean\u001b[38;5;241m=\u001b[39m\u001b[38;5;28;01mTrue\u001b[39;00m)\n\u001b[0;32m      5\u001b[0m     \u001b[38;5;28mprint\u001b[39m(\u001b[38;5;124m'\u001b[39m\u001b[38;5;124mSi\u001b[39m\u001b[38;5;124m'\u001b[39m)\n",
      "\u001b[1;31mNameError\u001b[0m: name 'frame' is not defined"
     ]
    }
   ],
   "source": [
    "importlib.reload(DQf)\n",
    "\n",
    "if frame.dimensions['legibility'] > 0:\n",
    "    cons,noCons,muestra = DQf.consistency(muestra, clean=True)\n",
    "    print('Si')\n"
   ]
  },
  {
   "cell_type": "code",
   "execution_count": null,
   "metadata": {},
   "outputs": [],
   "source": [
    "importlib.reload(DQf)\n",
    "\n",
    "if frame.dimensions['variability'] > 0:\n",
    "    var, deleted, muestra = DQf.variability(muestra, clean=True)\n",
    "    print('Si')\n"
   ]
  },
  {
   "cell_type": "code",
   "execution_count": null,
   "metadata": {},
   "outputs": [],
   "source": [
    "importlib.reload(DQf)\n",
    "\n",
    "if frame.dimensions['completeness'] > 0:\n",
    "    compl, muestra = DQf.completeness(muestra, clean=True)\n",
    "    print('Si')\n"
   ]
  },
  {
   "cell_type": "code",
   "execution_count": null,
   "metadata": {},
   "outputs": [],
   "source": [
    "importlib.reload(DQf)\n",
    "\n",
    "if frame.dimensions['redundancy'] > 0:\n",
    "    red,_,muestra = DQf.redundancy(muestra, clean=True)\n",
    "    print('Si')\n"
   ]
  },
  {
   "cell_type": "code",
   "execution_count": null,
   "metadata": {},
   "outputs": [],
   "source": [
    "frame.dimensions"
   ]
  },
  {
   "cell_type": "code",
   "execution_count": null,
   "metadata": {},
   "outputs": [],
   "source": [
    "frame.dimensions.values()\n",
    "DQ_Index = 0\n",
    "for d, v in zip(frame.dimensions.keys(), [cons, var, compl, red]):\n",
    "    DQ_Index += round((frame.dimensions[d]/sum(frame.dimensions.values())*v),2)\n",
    "    print(round((frame.dimensions[d]/sum(frame.dimensions.values())*v),2), '-', round((frame.dimensions[d]/sum(frame.dimensions.values())),2), '-', v)\n",
    "print('DQ_index:',round(DQ_Index,2))"
   ]
  },
  {
   "cell_type": "code",
   "execution_count": null,
   "metadata": {},
   "outputs": [],
   "source": [
    "importlib.reload(DQf)\n",
    "DQf.volume(muestra, clean=False)"
   ]
  },
  {
   "cell_type": "code",
   "execution_count": null,
   "metadata": {},
   "outputs": [],
   "source": [
    "importlib.reload(DQf)\n",
    "DQf.precision(muestra)"
   ]
  },
  {
   "cell_type": "code",
   "execution_count": null,
   "metadata": {},
   "outputs": [],
   "source": [
    "res = pd.DataFrame(1 - (muestra.std(numeric_only=True)/muestra.mean(numeric_only=True)), columns=['prec'])\n",
    "res['cero'] = 0\n",
    "res['prec'] = res[['cero','prec']].max(axis=1, skipna=False)\n",
    "#res['res'] = max('cero','prec')\n",
    "res['prec'].mean()\n",
    "#res"
   ]
  },
  {
   "cell_type": "code",
   "execution_count": null,
   "metadata": {},
   "outputs": [],
   "source": [
    "res = (muestra.isnull().sum(axis=0)/len(muestra))\n",
    "list(res[res>0.5].index)\n"
   ]
  },
  {
   "cell_type": "code",
   "execution_count": null,
   "metadata": {},
   "outputs": [],
   "source": [
    "pd.set_option('display.max_rows', None)\n",
    "pd.set_option('display.max_columns', None)\n",
    "Distancia = ['Selection','Starthour', 'FinalHour', 'Distance(m)','ExplosiveDist(m)','HIBD(m)','[0-45]%(m)','[45-65]%(m)',\n",
    "'[65-75]%(m)','[75-85]%(m)','[85-95]%(m)','[95-100]%(m)','[0-6]km/h(m)','[6-9]km/h(m)','[9-12]km/h(m)','[12-15]km/h(m)',\n",
    "'[15-18]km/h(m)','[18-21]km/h(m)','[21-50]km/h(m)','[0-45]%Cnt','[45-65]%Cnt','[65-75]%Cnt','[75-85]%Cnt','[85-95]%Cnt',\n",
    "'[95-100]%Cnt','[0-6]km/hCnt','[6-9]km/hCnt','[9-12]km/hCnt','[12-15]km/hCnt','[15-18]km/hCnt','[18-21]km/hCnt',\n",
    "'[21-50]km/hCnt','[0-45]%(ms)','[45-65]%(ms)','[65-75]%(ms)','[75-85]%(ms)','[85-95]%(ms)','[95-100]%(ms)','[0-6]km/h(ms)',\n",
    "'[6-9]km/h(ms)','[9-12]km/h(ms)','[12-15]km/h(ms)','[15-18]km/h(ms)','[18-21]km/h(ms)','[21-50]km/h(ms)']\n",
    "\n",
    "Aceleracion =['Selection','Starthour', 'FinalHour','Accelerations','Decelerations','MAXAcc(m/s²)','MAXDec(m/s²)',\n",
    "'AVGAcc(m/s²)','AVGDec(m/s²)','Dif.ACC/DEC','HighAccCnt','HighDecCnt','HighAcc(m)','HighDec(m)','HighAcc(ms)',\n",
    "'HighDec(ms)','[01]m/s²(m)','[12]m/s²(m)','[23]m/s²(m)','[34]m/s²(m)','[45]m/s²(m)','[56]m/s²(m)','[610]m/s²(m)',\n",
    "'[-10]m/s²(m)','[-2-1]m/s²(m)','[-3-2]m/s²(m)','[-4-3]m/s²(m)','[-5-4]m/s²(m)','[-6-5]m/s²(m)','[-10-6]m/s²(m)',\n",
    "'[050]%(m)','[5060]%(m)','[6070]%(m)','[7080]%(m)','[8090]%(m)','[90100]%(m)','[-500]%(m)','[-60-50]%(m)','[-70-60]%(m)',\n",
    "'[-80-70]%(m)','[-90-80]%(m)','[-100-90]%(m)','[01]m/s²Cnt','[12]m/s²Cnt','[23]m/s²Cnt','[34]m/s²Cnt','[45]m/s²Cnt',\n",
    "'[56]m/s²Cnt','[610]m/s²Cnt','[-10]m/s²Cnt','[-2-1]m/s²Cnt','[-3-2]m/s²Cnt','[-4-3]m/s²Cnt','[-5-4]m/s²Cnt','[-6-5]m/s²Cnt',\n",
    "'[-10-6]m/s²Cnt','[050]%Cnt','[5060]%Cnt','[6070]%Cnt','[7080]%Cnt','[8090]%Cnt','[90100]%Cnt','[-500]%Cnt','[-60-50]%Cnt',\n",
    "'[-70-60]%Cnt','[-80-70]%Cnt','[-90-80]%Cnt','[-100-90]%Cnt','[01]m/s²(ms)','[12]m/s²(ms)','[23]m/s²(ms)','[34]m/s²(ms)',\n",
    "'[45]m/s²(ms)','[56]m/s²(ms)','[610]m/s²(ms)','[-10]m/s²(ms)','[-2-1]m/s²(ms)','[-3-2]m/s²(ms)','[-4-3]m/s²(ms)',\n",
    "'[-5-4]m/s²(ms)','[-6-5]m/s²(ms)','[-10-6]m/s²(ms)','[050]%(ms)','[5060]%(ms)','[6070]%(ms)','[7080]%(ms)','[8090]%(ms)',\n",
    "'[90100]%(ms)','[-500]%(ms)','[-60-50]%(ms)','[-70-60]%(ms)','[-80-70]%(ms)','[-90-80]%(ms)','[-100-90]%(ms)']\n",
    "\n",
    "Salud = ['Selection','Starthour', 'FinalHour','HRDuration','MAXHR(bpm)','AVGHR(bpm)','Avg(%ofMax)','HighHR(m)',\n",
    "'HighHRCnt','HighHR(ms)','[50-60]%(m)','[60-70]%(m)','[70-80]%(m)','[80-90]%(m)','[90-100]%(m)','[100-200]%(m)',\n",
    "'[50-60]%Cnt','[60-70]%Cnt','[70-80]%Cnt','[80-90]%Cnt','[90-100]%Cnt','[100-200]%Cnt','[50-60]%(ms)','[60-70]%(ms)',\n",
    "'[70-80]%(ms)','[80-90]%(ms)','[90-100]%(ms)','[100-200]%(ms)']\n",
    "\n",
    "Velocidad = ['Selection','Starthour', 'FinalHour','SprintAbsCnt','SprintRelCnt','HSRAbsCnt','HSRRelCnt','SprintAbs(m)',\n",
    "'SprintRel(m)','HSRAbs(m)','HSRRel(m)','MAXSpeed(km/h)','AVGSpeed(km/h)','SprintmaxCnt','Sprintmax(m)','Sprintmax(ms)',\n",
    "'HSRAbsRep','HSRRelRep','SprintAbsRep','SprintRelRep','SprintmaxRep']\n",
    "\n",
    "Eventos = ['Selection','Starthour', 'FinalHour','Horiz.ImpactsCnt','Stepscount','StepBalance(%)','Jumpscount','JumpsAVGTakeoff(g)',\n",
    "'JumpsAVGLanding(g)','HighTakeoffCnt','HighLandingCnt','Landing[0-3]GCnt','Landing[3-5]GCnt','Landing[5-8]GCnt','Landing[8-100]GCnt',\n",
    "'Takeoff[0-3]GCnt','Takeoff[3-5]GCnt','Takeoff[5-8]GCnt','Takeoff[8-100]GCnt']\n",
    "\n",
    "Frecuencia = ['Selection','Starthour', 'FinalHour','FrecMAX(hz)','FrecAVG(hz)','Hz*GMAX','Hz*GAVG','[0-0,5](ms)',\n",
    "'[0,5-1](ms)','[1-1,5](ms)','[1,5-100](ms)']\n",
    "\n",
    "PlayerLoad = ['Selection','Starthour', 'FinalHour','PlayerLoad','PlayerLoadhorizontal','PlayerLoadvertical',\n",
    "'PlayerLoadantero-posterior','PlayerLoadmedio-lateral',]\n",
    "\n",
    "Energia = ['Selection','Starthour', 'FinalHour','Powermet','PowermetAvg','Edimax','HMLD','HMLDcnt','EnergyExpenditure',\n",
    "'DSL','[10-25,5]w/kg(m)','[25,5-35]w/kg(m)','[35-55]w/kg(m)','[55-100]w/kg(m)','[10-25,5]w/kgCnt','[25,5-35]w/kgCnt',\n",
    "'[35-55]w/kgCnt','[55-100]w/kgCnt','[10-25,5]w/kg(ms)','[25,5-35]w/kg(ms)','[35-55]w/kg(ms)','[55-100]w/kg(ms)',\n",
    "'Signal',]\n",
    "\n",
    "agrupamiento = ['Date', 'Sesion', 'Selection']\n",
    "muestra.set_index(agrupamiento, inplace=True)\n",
    "\n",
    "\n",
    "#seccion.groupby(agrupamiento, group_keys=True)[Distancia].apply(lambda x:x)\n"
   ]
  },
  {
   "cell_type": "code",
   "execution_count": null,
   "metadata": {},
   "outputs": [],
   "source": [
    "importlib.reload(DQf)\n",
    "_,muestra = DQf.outliers(muestra, clean=True)\n",
    "\n",
    "#seccion[Distancia].plot()\n",
    "#seccion[Distancia].corr()\n",
    "\n"
   ]
  },
  {
   "cell_type": "code",
   "execution_count": null,
   "metadata": {},
   "outputs": [],
   "source": [
    "filter = ['DrillsDuration(t)','Distance(m)','ExplosiveDist(m)','HIBD(m)','Accelerations(#)','MAXAcc(m/s²)','MAXDec(m/s²)','HighAcc(m)','HighDec(m)',\n",
    "          'MAXHR(bpm)','HighHR(ms)','HighHRCnt(#)','MAXSpeed(km/h)','AVGSpeed(km/h)','SprintmaxCnt(#)','Sprintmax(m)','Sprintmax(ms)',\n",
    "          'Stepscount(#)','Jumpscount(#)']\n",
    "\n",
    "filter = list(set(filter) - (set(filter) - set(muestra.columns)))\n",
    "\n",
    "\n",
    "seccion = muestra[filter]\n",
    "seccion['DrillsDuration(t)'] = pd.to_timedelta(seccion['DrillsDuration(t)'].astype(str)).dt.total_seconds()\n",
    "seccion.rename({'DrillsDuration(t)':'DrillsDuration(s)'}, axis=1, inplace=True)\n",
    "_,_,seccion = DQf.redundancy(seccion, clean=True)"
   ]
  },
  {
   "cell_type": "code",
   "execution_count": null,
   "metadata": {},
   "outputs": [],
   "source": [
    "# Show high correlated variables as a List\n",
    "threshold_corr = 0.8\n",
    "corr_matrix = seccion.corr(numeric_only=True).abs()\n",
    "high_corr_var = np.where(corr_matrix > threshold_corr)\n",
    "corr_matrix = seccion.corr(numeric_only=True)\n",
    "high_corr_matrix = pd.DataFrame(columns=['Var2','Corr'])\n",
    "for x,y in zip(*high_corr_var):\n",
    "    if x != y and x < y:\n",
    "        high_corr_matrix = pd.concat([high_corr_matrix, pd.DataFrame({\n",
    "                                                                'Var2':corr_matrix.columns[y],\n",
    "                                                                'Corr':corr_matrix.iat[x,y]}, \n",
    "                                                                index=[corr_matrix.columns[x]])], axis = 0, ignore_index = False)\n",
    "\n",
    "#high_corr_matrix"
   ]
  },
  {
   "cell_type": "code",
   "execution_count": null,
   "metadata": {},
   "outputs": [],
   "source": [
    "# Show high correlated variables as a Matrix\n",
    "alta_corr = pd.DataFrame(np.NaN, columns=high_corr_matrix.Var2.unique(), index=high_corr_matrix.index.unique())\n",
    "for x in range(len(high_corr_matrix)):\n",
    "    row = high_corr_matrix.iloc[[x]].index.values[0]\n",
    "    col = high_corr_matrix.iloc[[x]].Var2.values[0]\n",
    "    alta_corr.at[row,col] = high_corr_matrix.iloc[[x]].Corr.values[0]\n",
    "#alta_corr\n"
   ]
  },
  {
   "cell_type": "code",
   "execution_count": null,
   "metadata": {},
   "outputs": [],
   "source": [
    "# Best performance\n",
    "best = seccion.loc[seccion[['Distance(m)']].idxmax()]\n",
    "\n",
    "# Preliminar individual results for each player\n",
    "print('Player:',player)\n",
    "print('')\n",
    "print('****** Best Performance ******')\n",
    "print('Sesion:',best.index[0][1])\n",
    "print('Date:',best.index[0][0].date())\n",
    "for c in seccion.columns:\n",
    "    print(str(c)+':',best[c].max())\n",
    "\n",
    "print('')\n",
    "print('****** Trends ******')\n",
    "res = False\n",
    "for x,y in zip(high_corr_matrix.index, high_corr_matrix.Var2):\n",
    "    print(str(x),'and',str(y)+':','True')"
   ]
  },
  {
   "cell_type": "code",
   "execution_count": null,
   "metadata": {},
   "outputs": [],
   "source": [
    "data1"
   ]
  },
  {
   "cell_type": "code",
   "execution_count": null,
   "metadata": {},
   "outputs": [],
   "source": [
    "# Create some mock data\n",
    "variable1 = 'Accelerations(#)'\n",
    "variable2 = 'MAXHR(bpm)'\n",
    "index = 'Sesion'\n",
    "data1 = seccion.loc[:, :, 'Partido completo'][variable1]\n",
    "data2 = seccion.loc[:, :, 'Partido completo'][variable2]\n",
    "\n",
    "fig, ax1 = plt.subplots(figsize=(10,5))\n",
    "\n",
    "color = 'tab:red'\n",
    "ax1.set_xlabel(index)\n",
    "ax1.set_ylabel(variable1.split('(')[1][:-1], color=color)\n",
    "ax1.plot(np.sort(data1.index.get_level_values(index)), data1.interpolate(method='linear'), color=color, label=variable1)\n",
    "ax1.tick_params(axis='y', labelcolor=color)\n",
    "ax1.tick_params(axis='x', labelrotation=0)\n",
    "\n",
    "ax2 = ax1.twinx()  # instantiate a second axes that shares the same x-axis\n",
    "\n",
    "color = 'tab:blue'\n",
    "ax2.set_ylabel(variable2.split('(')[1][:-1], color=color)  # we already handled the x-label with ax1\n",
    "ax2.plot(np.sort(data1.index.get_level_values(index)), data2.interpolate(method='linear'), color=color, label=variable2)\n",
    "ax2.tick_params(axis='y', labelcolor=color)\n",
    "ax2.tick_params(axis='x', labelrotation=0)\n",
    "\n",
    "fig.tight_layout()  # otherwise the right y-label is slightly clipped\n",
    "fig.legend()\n",
    "plt.show()"
   ]
  },
  {
   "cell_type": "code",
   "execution_count": null,
   "metadata": {},
   "outputs": [],
   "source": [
    "np.sort(data1.index.get_level_values('Sesion'))\n"
   ]
  },
  {
   "cell_type": "code",
   "execution_count": null,
   "metadata": {},
   "outputs": [],
   "source": [
    "seccion.xs(('Partido completo',42), level=('Selection', 'Sesion'))"
   ]
  },
  {
   "attachments": {},
   "cell_type": "markdown",
   "metadata": {},
   "source": [
    "### PCA"
   ]
  },
  {
   "cell_type": "code",
   "execution_count": 122,
   "metadata": {},
   "outputs": [],
   "source": [
    "importlib.reload(DQf)\n",
    "importlib.reload(Gf)\n",
    "completos = df[df['Selection'] == 'Partido completo']\n"
   ]
  },
  {
   "cell_type": "code",
   "execution_count": 123,
   "metadata": {},
   "outputs": [
    {
     "name": "stderr",
     "output_type": "stream",
     "text": [
      "d:\\OneDrive - Universidad de Antioquia\\PhD\\Pasantia\\W en Deusto\\DataQualityIndex\\Deportes\\DQ_measure_f.py:85: UserWarning:\n",
      "\n",
      "Parsing dates in DD/MM/YYYY format when dayfirst=False (the default) was specified. This may lead to inconsistently parsed dates! Specify a format to ensure consistent parsing.\n",
      "\n"
     ]
    }
   ],
   "source": [
    "datos = completos.copy()\n",
    "\n",
    "_,datos = DQf.volume(datos, clean=True)\n",
    "_,noLeg,datos = DQf.consistency(datos, clean=True)\n",
    "_,_,datos = DQf.diversity(datos, clean=True)\n",
    "\n",
    "# Show correlated variables as a List\n",
    "threshold_corr = 0.9\n",
    "corr_matrix = datos.corr(numeric_only=True).abs()\n",
    "corr_var = np.where(corr_matrix > threshold_corr)\n",
    "corr_matrix = datos.corr(numeric_only=True)\n",
    "corr_var_matrix = pd.DataFrame(columns=['Var2','Corr'])\n",
    "for x,y in zip(*corr_var):\n",
    "    if x != y and x < y:\n",
    "        corr_var_matrix = pd.concat([corr_var_matrix, pd.DataFrame({\n",
    "                                                                'Var2':corr_matrix.columns[y],\n",
    "                                                                'Corr':corr_matrix.iat[x,y]}, \n",
    "                                                                index=[corr_matrix.columns[x]])], axis = 0, ignore_index = False)\n"
   ]
  },
  {
   "cell_type": "code",
   "execution_count": null,
   "metadata": {},
   "outputs": [],
   "source": [
    "var_corr = pd.DataFrame(np.NaN, columns=corr_var_matrix.Var2.unique(), index=corr_var_matrix.index.unique())\n",
    "for x in range(len(corr_var_matrix)):\n",
    "    row = corr_var_matrix.iloc[[x]].index.values[0]\n",
    "    col = corr_var_matrix.iloc[[x]].Var2.values[0]\n",
    "    var_corr.at[row,col] = corr_var_matrix.iloc[[x]].Corr.values[0]\n"
   ]
  },
  {
   "cell_type": "code",
   "execution_count": null,
   "metadata": {},
   "outputs": [],
   "source": [
    "ref = 'Distance(m)'\n",
    "filtro = list(corr_var_matrix[corr_var_matrix.index == ref]['Var2'])\n",
    "filtro = [ x for x in filtro if \"]%\" not in x ]\n",
    "#filtro = [filtro[0], ref]\n",
    "filtro.append(ref)\n"
   ]
  },
  {
   "cell_type": "code",
   "execution_count": null,
   "metadata": {},
   "outputs": [],
   "source": [
    "len(list(corr_var_matrix[['Var2']].itertuples(index=True, name=None)))"
   ]
  },
  {
   "cell_type": "code",
   "execution_count": null,
   "metadata": {},
   "outputs": [],
   "source": [
    "from sklearn.preprocessing import StandardScaler\n",
    "from sklearn.decomposition import PCA\n",
    "from itertools import combinations\n",
    "\n",
    "cont = 0\n",
    "#for comb in list(corr_var_matrix[['Var2']].itertuples(index=True, name=None)):\n",
    "for comb in combinations(['Takeoff[8-100]GCnt', 'Hz*GAVG', 'FrecAVG(hz)','SprintRelRep'],2):\n",
    "    comb = list(comb)\n",
    "\n",
    "    x = datos.loc[:, comb].values\n",
    "    x = StandardScaler().fit_transform(x) # normalizing the features\n",
    "\n",
    "    if len(comb) <= 2:\n",
    "        componentes = 2\n",
    "    else:\n",
    "        componentes = 'mle'\n",
    "\n",
    "    normalized_datos = pd.DataFrame(x,columns=comb)\n",
    "\n",
    "    pca_datos = PCA(n_components=componentes)\n",
    "    principalComponents_datos = pca_datos.fit_transform(x)\n",
    "\n",
    "    PCA_cols = [ 'PCA'+str(x+1) for x in range(principalComponents_datos.shape[1])]\n",
    "\n",
    "    principal_datos_Df = pd.DataFrame(data = principalComponents_datos\n",
    "                , columns = PCA_cols)\n",
    "\n",
    "    pca_datos.explained_variance_ratio_.sum(), principalComponents_datos.shape\n",
    "\n",
    "    if cont > 0 and cont <= 20:\n",
    "        targets = list(datos['Posicion'].unique())\n",
    "\n",
    "        fig, (ax1, ax2) = plt.subplots(1, 2, figsize=(10,4))\n",
    "        ax1.set_xlabel(comb[0],fontsize=10)\n",
    "        ax1.set_ylabel(comb[1],fontsize=10)\n",
    "        ax1.set_title(\"Principal Component Analysis of Datos\",fontsize=10)\n",
    "\n",
    "        for target in targets:\n",
    "            indicesToKeep = datos['Posicion'] == target\n",
    "            ax1.scatter(principal_datos_Df.loc[indicesToKeep, PCA_cols[0]]\n",
    "                    , principal_datos_Df.loc[indicesToKeep, PCA_cols[1]], s = 25)\n",
    "\n",
    "        ax1.legend(targets,prop={'size': 8})\n",
    "\n",
    "        ax2.set_xlabel(comb[0],fontsize=10)\n",
    "        ax2.set_ylabel(comb[1],fontsize=10)\n",
    "        ax2.set_title(\"Real Values of Datos\",fontsize=10)\n",
    "\n",
    "        for target in targets:\n",
    "            indicesToKeep = datos['Posicion'] == target\n",
    "            ax2.scatter(datos.loc[indicesToKeep, comb[0]]\n",
    "                    , datos.loc[indicesToKeep, comb[1]], s = 25)\n",
    "\n",
    "        ax2.legend(targets,prop={'size': 8})\n",
    "\n",
    "        plt.show()\n",
    "\n",
    "\n",
    "    cont += 1"
   ]
  },
  {
   "cell_type": "code",
   "execution_count": null,
   "metadata": {},
   "outputs": [],
   "source": [
    "\n",
    "plt.figure()\n",
    "plt.figure(figsize=(10,8))\n",
    "plt.xticks(fontsize=12)\n",
    "plt.yticks(fontsize=14)\n",
    "plt.xlabel('Hz*GAVG',fontsize=20)\n",
    "plt.ylabel('FrecAVG(hz)',fontsize=20)\n",
    "plt.title(\"Principal Component Analysis of Datos\",fontsize=20)\n",
    "targets = list(datos['Posicion'].unique())\n",
    "\n",
    "for target in targets:\n",
    "    indicesToKeep = datos['Posicion'] == target\n",
    "    plt.scatter(datos.loc[indicesToKeep, 'Hz*GAVG']\n",
    "               , datos.loc[indicesToKeep, 'FrecAVG(hz)'], s = 50)\n",
    "\n",
    "plt.legend(targets,prop={'size': 15})"
   ]
  },
  {
   "cell_type": "code",
   "execution_count": null,
   "metadata": {},
   "outputs": [],
   "source": [
    "datos.head()\n",
    "\n",
    "interesantes = ['Hz*GAVG', 'FrecAVG(hz)','SprintRelCnt(#)', 'Jumpscount(#)', 'SprintRelRep', 'Takeoff[8-100]GCnt']\n",
    "#datos.columns[datos.columns.str.contains('8-100')]\n",
    "datos[interesantes].corr()\n"
   ]
  },
  {
   "cell_type": "code",
   "execution_count": 157,
   "metadata": {},
   "outputs": [],
   "source": [
    "importlib.reload(DQf)\n",
    "\n",
    "new = 'SprintRelCnt(#)'\n",
    "\n",
    "interesantes = ['Hz*GAVG', 'FrecAVG(hz)','SprintRelCnt(#)', '[0,5-1](ms)', '[1-1,5](ms)', 'Takeoff[3-5]GCnt', 'Takeoff[5-8]GCnt', 'Takeoff[8-100]GCnt', 'StepBalance(%)', 'JumpsAVGTakeoff(g)']\n",
    "#interesantes.append(new)\n",
    "# 'Hz*GAVG' --> PORTERA, PIVOT\n",
    "# 'StepBalance(%)' --> CIERRE\n",
    "# '[1-1,5](ms)' --> ALA, CIERRE\n",
    "# 'Takeoff[3-5]GCnt' --> PIVOT\n",
    "# 'Takeoff[5-8]GCnt' --> ALA, ALA-CIERRE\n",
    "# 'Takeoff[8-100]GCnt' --> ALA-CIERRE, ALA-PIVOT\n",
    "# 'JumpsAVGTakeoff(g)' --> ALA-CIERRE, ALA-PIVOT, ALA, PIVOT(Parcial)\n",
    "# 'SprintRelCnt(#)' --> ALA-PIVOT, ALA\n",
    "# '[0,5-1](ms)'  --> ALA-CIERRE\n",
    "\n",
    "\n",
    "res = datos[interesantes]\n",
    "res['Posicion'] = datos['Posicion']\n",
    "#_,res = DQf.outliers(res, clean=True)\n",
    "\n",
    "targets = list(res['Posicion'].unique())\n",
    "targets.sort()\n",
    "for p,s in zip(targets, range(6)):\n",
    "    indicesToKeep = res['Posicion'] == p\n",
    "    res.loc[indicesToKeep, 'Hz*GAVG'] += s/100"
   ]
  },
  {
   "cell_type": "code",
   "execution_count": 164,
   "metadata": {},
   "outputs": [
    {
     "data": {
      "text/plain": [
       "<Figure size 432x288 with 0 Axes>"
      ]
     },
     "metadata": {},
     "output_type": "display_data"
    },
    {
     "data": {
      "image/png": "[encoded data removed]",
      "image/svg+xml": [
       "<?xml version=\"1.0\" encoding=\"utf-8\" standalone=\"no\"?>\r\n",
       "<!DOCTYPE svg PUBLIC \"-//W3C//DTD SVG 1.1//EN\"\r\n",
       "  \"http://www.w3.org/Graphics/SVG/1.1/DTD/svg11.dtd\">\r\n",
       "<svg height=\"502.76875pt\" version=\"1.1\" viewBox=\"0 0 615.3425 502.76875\" width=\"615.3425pt\" xmlns=\"http://www.w3.org/2000/svg\" xmlns:xlink=\"http://www.w3.org/1999/xlink\">\r\n",
       " <metadata>\r\n",
       "  <rdf:RDF xmlns:cc=\"http://creativecommons.org/ns#\" xmlns:dc=\"http://purl.org/dc/elements/1.1/\" xmlns:rdf=\"http://www.w3.org/1999/02/22-rdf-syntax-ns#\">\r\n",
       "   <cc:Work>\r\n",
       "    <dc:type rdf:resource=\"http://purl.org/dc/dcmitype/StillImage\"/>\r\n",
       "    <dc:date>2023-03-24T12:33:35.405580</dc:date>\r\n",
       "    <dc:format>image/svg+xml</dc:format>\r\n",
       "    <dc:creator>\r\n",
       "     <cc:Agent>\r\n",
       "      <dc:title>Matplotlib v3.4.3, https://matplotlib.org/</dc:title>\r\n",
       "     </cc:Agent>\r\n",
       "    </dc:creator>\r\n",
       "   </cc:Work>\r\n",
       "  </rdf:RDF>\r\n",
       " </metadata>\r\n",
       " <defs>\r\n",
       "  <style type=\"text/css\">*{stroke-linecap:butt;stroke-linejoin:round;}</style>\r\n",
       " </defs>\r\n",
       " <g id=\"figure_1\">\r\n",
       "  <g id=\"patch_1\">\r\n",
       "   <path d=\"M 0 502.76875 \r\n",
       "L 615.3425 502.76875 \r\n",
       "L 615.3425 0 \r\n",
       "L 0 0 \r\n",
       "z\r\n",
       "\" style=\"fill:none;\"/>\r\n",
       "  </g>\r\n",
       "  <g id=\"axes_1\">\r\n",
       "   <g id=\"patch_2\">\r\n",
       "    <path d=\"M 50.1425 463.276875 \r\n",
       "L 608.1425 463.276875 \r\n",
       "L 608.1425 28.396875 \r\n",
       "L 50.1425 28.396875 \r\n",
       "z\r\n",
       "\" style=\"fill:#ffffff;\"/>\r\n",
       "   </g>\r\n",
       "   <g id=\"PathCollection_1\">\r\n",
       "    <defs>\r\n",
       "     <path d=\"M 0 3.535534 \r\n",
       "C 0.937635 3.535534 1.836992 3.163008 2.5 2.5 \r\n",
       "C 3.163008 1.836992 3.535534 0.937635 3.535534 0 \r\n",
       "C 3.535534 -0.937635 3.163008 -1.836992 2.5 -2.5 \r\n",
       "C 1.836992 -3.163008 0.937635 -3.535534 0 -3.535534 \r\n",
       "C -0.937635 -3.535534 -1.836992 -3.163008 -2.5 -2.5 \r\n",
       "C -3.163008 -1.836992 -3.535534 -0.937635 -3.535534 0 \r\n",
       "C -3.535534 0.937635 -3.163008 1.836992 -2.5 2.5 \r\n",
       "C -1.836992 3.163008 -0.937635 3.535534 0 3.535534 \r\n",
       "z\r\n",
       "\" id=\"m09b901b17d\" style=\"stroke:#1f77b4;\"/>\r\n",
       "    </defs>\r\n",
       "    <g clip-path=\"url(#paae8b670fc)\">\r\n",
       "     <use style=\"fill:#1f77b4;stroke:#1f77b4;\" x=\"75.506136\" xlink:href=\"#m09b901b17d\" y=\"389.598858\"/>\r\n",
       "     <use style=\"fill:#1f77b4;stroke:#1f77b4;\" x=\"75.506136\" xlink:href=\"#m09b901b17d\" y=\"443.509602\"/>\r\n",
       "    </g>\r\n",
       "   </g>\r\n",
       "   <g id=\"PathCollection_2\">\r\n",
       "    <defs>\r\n",
       "     <path d=\"M 0 3.535534 \r\n",
       "C 0.937635 3.535534 1.836992 3.163008 2.5 2.5 \r\n",
       "C 3.163008 1.836992 3.535534 0.937635 3.535534 0 \r\n",
       "C 3.535534 -0.937635 3.163008 -1.836992 2.5 -2.5 \r\n",
       "C 1.836992 -3.163008 0.937635 -3.535534 0 -3.535534 \r\n",
       "C -0.937635 -3.535534 -1.836992 -3.163008 -2.5 -2.5 \r\n",
       "C -3.163008 -1.836992 -3.535534 -0.937635 -3.535534 0 \r\n",
       "C -3.535534 0.937635 -3.163008 1.836992 -2.5 2.5 \r\n",
       "C -1.836992 3.163008 -0.937635 3.535534 0 3.535534 \r\n",
       "z\r\n",
       "\" id=\"m8e0f1dcbe8\" style=\"stroke:#ff7f0e;\"/>\r\n",
       "    </defs>\r\n",
       "    <g clip-path=\"url(#paae8b670fc)\">\r\n",
       "     <use style=\"fill:#ff7f0e;stroke:#ff7f0e;\" x=\"255.869773\" xlink:href=\"#m8e0f1dcbe8\" y=\"254.821999\"/>\r\n",
       "     <use style=\"fill:#ff7f0e;stroke:#ff7f0e;\" x=\"199.506136\" xlink:href=\"#m8e0f1dcbe8\" y=\"263.807123\"/>\r\n",
       "    </g>\r\n",
       "   </g>\r\n",
       "   <g id=\"PathCollection_3\">\r\n",
       "    <defs>\r\n",
       "     <path d=\"M 0 3.535534 \r\n",
       "C 0.937635 3.535534 1.836992 3.163008 2.5 2.5 \r\n",
       "C 3.163008 1.836992 3.535534 0.937635 3.535534 0 \r\n",
       "C 3.535534 -0.937635 3.163008 -1.836992 2.5 -2.5 \r\n",
       "C 1.836992 -3.163008 0.937635 -3.535534 0 -3.535534 \r\n",
       "C -0.937635 -3.535534 -1.836992 -3.163008 -2.5 -2.5 \r\n",
       "C -3.163008 -1.836992 -3.535534 -0.937635 -3.535534 0 \r\n",
       "C -3.535534 0.937635 -3.163008 1.836992 -2.5 2.5 \r\n",
       "C -1.836992 3.163008 -0.937635 3.535534 0 3.535534 \r\n",
       "z\r\n",
       "\" id=\"m4574d5d077\" style=\"stroke:#2ca02c;\"/>\r\n",
       "    </defs>\r\n",
       "    <g clip-path=\"url(#paae8b670fc)\">\r\n",
       "     <use style=\"fill:#2ca02c;stroke:#2ca02c;\" x=\"323.506136\" xlink:href=\"#m4574d5d077\" y=\"227.866627\"/>\r\n",
       "     <use style=\"fill:#2ca02c;stroke:#2ca02c;\" x=\"436.233409\" xlink:href=\"#m4574d5d077\" y=\"120.045139\"/>\r\n",
       "    </g>\r\n",
       "   </g>\r\n",
       "   <g id=\"PathCollection_4\">\r\n",
       "    <defs>\r\n",
       "     <path d=\"M 0 3.535534 \r\n",
       "C 0.937635 3.535534 1.836992 3.163008 2.5 2.5 \r\n",
       "C 3.163008 1.836992 3.535534 0.937635 3.535534 0 \r\n",
       "C 3.535534 -0.937635 3.163008 -1.836992 2.5 -2.5 \r\n",
       "C 1.836992 -3.163008 0.937635 -3.535534 0 -3.535534 \r\n",
       "C -0.937635 -3.535534 -1.836992 -3.163008 -2.5 -2.5 \r\n",
       "C -3.163008 -1.836992 -3.535534 -0.937635 -3.535534 0 \r\n",
       "C -3.535534 0.937635 -3.163008 1.836992 -2.5 2.5 \r\n",
       "C -1.836992 3.163008 -0.937635 3.535534 0 3.535534 \r\n",
       "z\r\n",
       "\" id=\"m97acde96ca\" style=\"stroke:#d62728;\"/>\r\n",
       "    </defs>\r\n",
       "    <g clip-path=\"url(#paae8b670fc)\">\r\n",
       "     <use style=\"fill:#d62728;stroke:#d62728;\" x=\"222.051591\" xlink:href=\"#m97acde96ca\" y=\"281.777371\"/>\r\n",
       "     <use style=\"fill:#d62728;stroke:#d62728;\" x=\"222.051591\" xlink:href=\"#m97acde96ca\" y=\"263.807123\"/>\r\n",
       "    </g>\r\n",
       "   </g>\r\n",
       "   <g id=\"PathCollection_5\">\r\n",
       "    <defs>\r\n",
       "     <path d=\"M 0 3.535534 \r\n",
       "C 0.937635 3.535534 1.836992 3.163008 2.5 2.5 \r\n",
       "C 3.163008 1.836992 3.535534 0.937635 3.535534 0 \r\n",
       "C 3.535534 -0.937635 3.163008 -1.836992 2.5 -2.5 \r\n",
       "C 1.836992 -3.163008 0.937635 -3.535534 0 -3.535534 \r\n",
       "C -0.937635 -3.535534 -1.836992 -3.163008 -2.5 -2.5 \r\n",
       "C -3.163008 -1.836992 -3.535534 -0.937635 -3.535534 0 \r\n",
       "C -3.535534 0.937635 -3.163008 1.836992 -2.5 2.5 \r\n",
       "C -1.836992 3.163008 -0.937635 3.535534 0 3.535534 \r\n",
       "z\r\n",
       "\" id=\"m5e32d14bac\" style=\"stroke:#9467bd;\"/>\r\n",
       "    </defs>\r\n",
       "    <g clip-path=\"url(#paae8b670fc)\">\r\n",
       "     <use style=\"fill:#9467bd;stroke:#9467bd;\" x=\"346.051591\" xlink:href=\"#m5e32d14bac\" y=\"227.866627\"/>\r\n",
       "     <use style=\"fill:#9467bd;stroke:#9467bd;\" x=\"458.778864\" xlink:href=\"#m5e32d14bac\" y=\"120.045139\"/>\r\n",
       "     <use style=\"fill:#9467bd;stroke:#9467bd;\" x=\"233.324318\" xlink:href=\"#m5e32d14bac\" y=\"281.777371\"/>\r\n",
       "    </g>\r\n",
       "   </g>\r\n",
       "   <g id=\"PathCollection_6\">\r\n",
       "    <defs>\r\n",
       "     <path d=\"M 0 3.535534 \r\n",
       "C 0.937635 3.535534 1.836992 3.163008 2.5 2.5 \r\n",
       "C 3.163008 1.836992 3.535534 0.937635 3.535534 0 \r\n",
       "C 3.535534 -0.937635 3.163008 -1.836992 2.5 -2.5 \r\n",
       "C 1.836992 -3.163008 0.937635 -3.535534 0 -3.535534 \r\n",
       "C -0.937635 -3.535534 -1.836992 -3.163008 -2.5 -2.5 \r\n",
       "C -3.163008 -1.836992 -3.535534 -0.937635 -3.535534 0 \r\n",
       "C -3.535534 0.937635 -3.163008 1.836992 -2.5 2.5 \r\n",
       "C -1.836992 3.163008 -0.937635 3.535534 0 3.535534 \r\n",
       "z\r\n",
       "\" id=\"ma431a17627\" style=\"stroke:#8c564b;\"/>\r\n",
       "    </defs>\r\n",
       "    <g clip-path=\"url(#paae8b670fc)\">\r\n",
       "     <use style=\"fill:#8c564b;stroke:#8c564b;\" x=\"244.597045\" xlink:href=\"#ma431a17627\" y=\"263.807123\"/>\r\n",
       "     <use style=\"fill:#8c564b;stroke:#8c564b;\" x=\"582.778864\" xlink:href=\"#ma431a17627\" y=\"48.164148\"/>\r\n",
       "    </g>\r\n",
       "   </g>\r\n",
       "   <g id=\"matplotlib.axis_1\">\r\n",
       "    <g id=\"xtick_1\">\r\n",
       "     <g id=\"line2d_1\">\r\n",
       "      <defs>\r\n",
       "       <path d=\"M 0 0 \r\n",
       "L 0 3.5 \r\n",
       "\" id=\"mfc80b869c0\" style=\"stroke:#000000;stroke-width:0.8;\"/>\r\n",
       "      </defs>\r\n",
       "      <g>\r\n",
       "       <use style=\"stroke:#000000;stroke-width:0.8;\" x=\"75.506136\" xlink:href=\"#mfc80b869c0\" y=\"463.276875\"/>\r\n",
       "      </g>\r\n",
       "     </g>\r\n",
       "     <g id=\"text_1\">\r\n",
       "      <!-- 0.2 -->\r\n",
       "      <g transform=\"translate(65.964261 479.395)scale(0.12 -0.12)\">\r\n",
       "       <defs>\r\n",
       "        <path d=\"M 2034 4250 \r\n",
       "Q 1547 4250 1301 3770 \r\n",
       "Q 1056 3291 1056 2328 \r\n",
       "Q 1056 1369 1301 889 \r\n",
       "Q 1547 409 2034 409 \r\n",
       "Q 2525 409 2770 889 \r\n",
       "Q 3016 1369 3016 2328 \r\n",
       "Q 3016 3291 2770 3770 \r\n",
       "Q 2525 4250 2034 4250 \r\n",
       "z\r\n",
       "M 2034 4750 \r\n",
       "Q 2819 4750 3233 4129 \r\n",
       "Q 3647 3509 3647 2328 \r\n",
       "Q 3647 1150 3233 529 \r\n",
       "Q 2819 -91 2034 -91 \r\n",
       "Q 1250 -91 836 529 \r\n",
       "Q 422 1150 422 2328 \r\n",
       "Q 422 3509 836 4129 \r\n",
       "Q 1250 4750 2034 4750 \r\n",
       "z\r\n",
       "\" id=\"DejaVuSans-30\" transform=\"scale(0.015625)\"/>\r\n",
       "        <path d=\"M 684 794 \r\n",
       "L 1344 794 \r\n",
       "L 1344 0 \r\n",
       "L 684 0 \r\n",
       "L 684 794 \r\n",
       "z\r\n",
       "\" id=\"DejaVuSans-2e\" transform=\"scale(0.015625)\"/>\r\n",
       "        <path d=\"M 1228 531 \r\n",
       "L 3431 531 \r\n",
       "L 3431 0 \r\n",
       "L 469 0 \r\n",
       "L 469 531 \r\n",
       "Q 828 903 1448 1529 \r\n",
       "Q 2069 2156 2228 2338 \r\n",
       "Q 2531 2678 2651 2914 \r\n",
       "Q 2772 3150 2772 3378 \r\n",
       "Q 2772 3750 2511 3984 \r\n",
       "Q 2250 4219 1831 4219 \r\n",
       "Q 1534 4219 1204 4116 \r\n",
       "Q 875 4013 500 3803 \r\n",
       "L 500 4441 \r\n",
       "Q 881 4594 1212 4672 \r\n",
       "Q 1544 4750 1819 4750 \r\n",
       "Q 2544 4750 2975 4387 \r\n",
       "Q 3406 4025 3406 3419 \r\n",
       "Q 3406 3131 3298 2873 \r\n",
       "Q 3191 2616 2906 2266 \r\n",
       "Q 2828 2175 2409 1742 \r\n",
       "Q 1991 1309 1228 531 \r\n",
       "z\r\n",
       "\" id=\"DejaVuSans-32\" transform=\"scale(0.015625)\"/>\r\n",
       "       </defs>\r\n",
       "       <use xlink:href=\"#DejaVuSans-30\"/>\r\n",
       "       <use x=\"63.623047\" xlink:href=\"#DejaVuSans-2e\"/>\r\n",
       "       <use x=\"95.410156\" xlink:href=\"#DejaVuSans-32\"/>\r\n",
       "      </g>\r\n",
       "     </g>\r\n",
       "    </g>\r\n",
       "    <g id=\"xtick_2\">\r\n",
       "     <g id=\"line2d_2\">\r\n",
       "      <g>\r\n",
       "       <use style=\"stroke:#000000;stroke-width:0.8;\" x=\"188.233409\" xlink:href=\"#mfc80b869c0\" y=\"463.276875\"/>\r\n",
       "      </g>\r\n",
       "     </g>\r\n",
       "     <g id=\"text_2\">\r\n",
       "      <!-- 0.3 -->\r\n",
       "      <g transform=\"translate(178.691534 479.395)scale(0.12 -0.12)\">\r\n",
       "       <defs>\r\n",
       "        <path d=\"M 2597 2516 \r\n",
       "Q 3050 2419 3304 2112 \r\n",
       "Q 3559 1806 3559 1356 \r\n",
       "Q 3559 666 3084 287 \r\n",
       "Q 2609 -91 1734 -91 \r\n",
       "Q 1441 -91 1130 -33 \r\n",
       "Q 819 25 488 141 \r\n",
       "L 488 750 \r\n",
       "Q 750 597 1062 519 \r\n",
       "Q 1375 441 1716 441 \r\n",
       "Q 2309 441 2620 675 \r\n",
       "Q 2931 909 2931 1356 \r\n",
       "Q 2931 1769 2642 2001 \r\n",
       "Q 2353 2234 1838 2234 \r\n",
       "L 1294 2234 \r\n",
       "L 1294 2753 \r\n",
       "L 1863 2753 \r\n",
       "Q 2328 2753 2575 2939 \r\n",
       "Q 2822 3125 2822 3475 \r\n",
       "Q 2822 3834 2567 4026 \r\n",
       "Q 2313 4219 1838 4219 \r\n",
       "Q 1578 4219 1281 4162 \r\n",
       "Q 984 4106 628 3988 \r\n",
       "L 628 4550 \r\n",
       "Q 988 4650 1302 4700 \r\n",
       "Q 1616 4750 1894 4750 \r\n",
       "Q 2613 4750 3031 4423 \r\n",
       "Q 3450 4097 3450 3541 \r\n",
       "Q 3450 3153 3228 2886 \r\n",
       "Q 3006 2619 2597 2516 \r\n",
       "z\r\n",
       "\" id=\"DejaVuSans-33\" transform=\"scale(0.015625)\"/>\r\n",
       "       </defs>\r\n",
       "       <use xlink:href=\"#DejaVuSans-30\"/>\r\n",
       "       <use x=\"63.623047\" xlink:href=\"#DejaVuSans-2e\"/>\r\n",
       "       <use x=\"95.410156\" xlink:href=\"#DejaVuSans-33\"/>\r\n",
       "      </g>\r\n",
       "     </g>\r\n",
       "    </g>\r\n",
       "    <g id=\"xtick_3\">\r\n",
       "     <g id=\"line2d_3\">\r\n",
       "      <g>\r\n",
       "       <use style=\"stroke:#000000;stroke-width:0.8;\" x=\"300.960682\" xlink:href=\"#mfc80b869c0\" y=\"463.276875\"/>\r\n",
       "      </g>\r\n",
       "     </g>\r\n",
       "     <g id=\"text_3\">\r\n",
       "      <!-- 0.4 -->\r\n",
       "      <g transform=\"translate(291.418807 479.395)scale(0.12 -0.12)\">\r\n",
       "       <defs>\r\n",
       "        <path d=\"M 2419 4116 \r\n",
       "L 825 1625 \r\n",
       "L 2419 1625 \r\n",
       "L 2419 4116 \r\n",
       "z\r\n",
       "M 2253 4666 \r\n",
       "L 3047 4666 \r\n",
       "L 3047 1625 \r\n",
       "L 3713 1625 \r\n",
       "L 3713 1100 \r\n",
       "L 3047 1100 \r\n",
       "L 3047 0 \r\n",
       "L 2419 0 \r\n",
       "L 2419 1100 \r\n",
       "L 313 1100 \r\n",
       "L 313 1709 \r\n",
       "L 2253 4666 \r\n",
       "z\r\n",
       "\" id=\"DejaVuSans-34\" transform=\"scale(0.015625)\"/>\r\n",
       "       </defs>\r\n",
       "       <use xlink:href=\"#DejaVuSans-30\"/>\r\n",
       "       <use x=\"63.623047\" xlink:href=\"#DejaVuSans-2e\"/>\r\n",
       "       <use x=\"95.410156\" xlink:href=\"#DejaVuSans-34\"/>\r\n",
       "      </g>\r\n",
       "     </g>\r\n",
       "    </g>\r\n",
       "    <g id=\"xtick_4\">\r\n",
       "     <g id=\"line2d_4\">\r\n",
       "      <g>\r\n",
       "       <use style=\"stroke:#000000;stroke-width:0.8;\" x=\"413.687955\" xlink:href=\"#mfc80b869c0\" y=\"463.276875\"/>\r\n",
       "      </g>\r\n",
       "     </g>\r\n",
       "     <g id=\"text_4\">\r\n",
       "      <!-- 0.5 -->\r\n",
       "      <g transform=\"translate(404.14608 479.395)scale(0.12 -0.12)\">\r\n",
       "       <defs>\r\n",
       "        <path d=\"M 691 4666 \r\n",
       "L 3169 4666 \r\n",
       "L 3169 4134 \r\n",
       "L 1269 4134 \r\n",
       "L 1269 2991 \r\n",
       "Q 1406 3038 1543 3061 \r\n",
       "Q 1681 3084 1819 3084 \r\n",
       "Q 2600 3084 3056 2656 \r\n",
       "Q 3513 2228 3513 1497 \r\n",
       "Q 3513 744 3044 326 \r\n",
       "Q 2575 -91 1722 -91 \r\n",
       "Q 1428 -91 1123 -41 \r\n",
       "Q 819 9 494 109 \r\n",
       "L 494 744 \r\n",
       "Q 775 591 1075 516 \r\n",
       "Q 1375 441 1709 441 \r\n",
       "Q 2250 441 2565 725 \r\n",
       "Q 2881 1009 2881 1497 \r\n",
       "Q 2881 1984 2565 2268 \r\n",
       "Q 2250 2553 1709 2553 \r\n",
       "Q 1456 2553 1204 2497 \r\n",
       "Q 953 2441 691 2322 \r\n",
       "L 691 4666 \r\n",
       "z\r\n",
       "\" id=\"DejaVuSans-35\" transform=\"scale(0.015625)\"/>\r\n",
       "       </defs>\r\n",
       "       <use xlink:href=\"#DejaVuSans-30\"/>\r\n",
       "       <use x=\"63.623047\" xlink:href=\"#DejaVuSans-2e\"/>\r\n",
       "       <use x=\"95.410156\" xlink:href=\"#DejaVuSans-35\"/>\r\n",
       "      </g>\r\n",
       "     </g>\r\n",
       "    </g>\r\n",
       "    <g id=\"xtick_5\">\r\n",
       "     <g id=\"line2d_5\">\r\n",
       "      <g>\r\n",
       "       <use style=\"stroke:#000000;stroke-width:0.8;\" x=\"526.415227\" xlink:href=\"#mfc80b869c0\" y=\"463.276875\"/>\r\n",
       "      </g>\r\n",
       "     </g>\r\n",
       "     <g id=\"text_5\">\r\n",
       "      <!-- 0.6 -->\r\n",
       "      <g transform=\"translate(516.873352 479.395)scale(0.12 -0.12)\">\r\n",
       "       <defs>\r\n",
       "        <path d=\"M 2113 2584 \r\n",
       "Q 1688 2584 1439 2293 \r\n",
       "Q 1191 2003 1191 1497 \r\n",
       "Q 1191 994 1439 701 \r\n",
       "Q 1688 409 2113 409 \r\n",
       "Q 2538 409 2786 701 \r\n",
       "Q 3034 994 3034 1497 \r\n",
       "Q 3034 2003 2786 2293 \r\n",
       "Q 2538 2584 2113 2584 \r\n",
       "z\r\n",
       "M 3366 4563 \r\n",
       "L 3366 3988 \r\n",
       "Q 3128 4100 2886 4159 \r\n",
       "Q 2644 4219 2406 4219 \r\n",
       "Q 1781 4219 1451 3797 \r\n",
       "Q 1122 3375 1075 2522 \r\n",
       "Q 1259 2794 1537 2939 \r\n",
       "Q 1816 3084 2150 3084 \r\n",
       "Q 2853 3084 3261 2657 \r\n",
       "Q 3669 2231 3669 1497 \r\n",
       "Q 3669 778 3244 343 \r\n",
       "Q 2819 -91 2113 -91 \r\n",
       "Q 1303 -91 875 529 \r\n",
       "Q 447 1150 447 2328 \r\n",
       "Q 447 3434 972 4092 \r\n",
       "Q 1497 4750 2381 4750 \r\n",
       "Q 2619 4750 2861 4703 \r\n",
       "Q 3103 4656 3366 4563 \r\n",
       "z\r\n",
       "\" id=\"DejaVuSans-36\" transform=\"scale(0.015625)\"/>\r\n",
       "       </defs>\r\n",
       "       <use xlink:href=\"#DejaVuSans-30\"/>\r\n",
       "       <use x=\"63.623047\" xlink:href=\"#DejaVuSans-2e\"/>\r\n",
       "       <use x=\"95.410156\" xlink:href=\"#DejaVuSans-36\"/>\r\n",
       "      </g>\r\n",
       "     </g>\r\n",
       "    </g>\r\n",
       "    <g id=\"text_6\">\r\n",
       "     <!-- Hz*GAVG -->\r\n",
       "     <g transform=\"translate(305.987812 493.489062)scale(0.1 -0.1)\">\r\n",
       "      <defs>\r\n",
       "       <path d=\"M 628 4666 \r\n",
       "L 1259 4666 \r\n",
       "L 1259 2753 \r\n",
       "L 3553 2753 \r\n",
       "L 3553 4666 \r\n",
       "L 4184 4666 \r\n",
       "L 4184 0 \r\n",
       "L 3553 0 \r\n",
       "L 3553 2222 \r\n",
       "L 1259 2222 \r\n",
       "L 1259 0 \r\n",
       "L 628 0 \r\n",
       "L 628 4666 \r\n",
       "z\r\n",
       "\" id=\"DejaVuSans-48\" transform=\"scale(0.015625)\"/>\r\n",
       "       <path d=\"M 353 3500 \r\n",
       "L 3084 3500 \r\n",
       "L 3084 2975 \r\n",
       "L 922 459 \r\n",
       "L 3084 459 \r\n",
       "L 3084 0 \r\n",
       "L 275 0 \r\n",
       "L 275 525 \r\n",
       "L 2438 3041 \r\n",
       "L 353 3041 \r\n",
       "L 353 3500 \r\n",
       "z\r\n",
       "\" id=\"DejaVuSans-7a\" transform=\"scale(0.015625)\"/>\r\n",
       "       <path d=\"M 3009 3897 \r\n",
       "L 1888 3291 \r\n",
       "L 3009 2681 \r\n",
       "L 2828 2375 \r\n",
       "L 1778 3009 \r\n",
       "L 1778 1831 \r\n",
       "L 1422 1831 \r\n",
       "L 1422 3009 \r\n",
       "L 372 2375 \r\n",
       "L 191 2681 \r\n",
       "L 1313 3291 \r\n",
       "L 191 3897 \r\n",
       "L 372 4206 \r\n",
       "L 1422 3572 \r\n",
       "L 1422 4750 \r\n",
       "L 1778 4750 \r\n",
       "L 1778 3572 \r\n",
       "L 2828 4206 \r\n",
       "L 3009 3897 \r\n",
       "z\r\n",
       "\" id=\"DejaVuSans-2a\" transform=\"scale(0.015625)\"/>\r\n",
       "       <path d=\"M 3809 666 \r\n",
       "L 3809 1919 \r\n",
       "L 2778 1919 \r\n",
       "L 2778 2438 \r\n",
       "L 4434 2438 \r\n",
       "L 4434 434 \r\n",
       "Q 4069 175 3628 42 \r\n",
       "Q 3188 -91 2688 -91 \r\n",
       "Q 1594 -91 976 548 \r\n",
       "Q 359 1188 359 2328 \r\n",
       "Q 359 3472 976 4111 \r\n",
       "Q 1594 4750 2688 4750 \r\n",
       "Q 3144 4750 3555 4637 \r\n",
       "Q 3966 4525 4313 4306 \r\n",
       "L 4313 3634 \r\n",
       "Q 3963 3931 3569 4081 \r\n",
       "Q 3175 4231 2741 4231 \r\n",
       "Q 1884 4231 1454 3753 \r\n",
       "Q 1025 3275 1025 2328 \r\n",
       "Q 1025 1384 1454 906 \r\n",
       "Q 1884 428 2741 428 \r\n",
       "Q 3075 428 3337 486 \r\n",
       "Q 3600 544 3809 666 \r\n",
       "z\r\n",
       "\" id=\"DejaVuSans-47\" transform=\"scale(0.015625)\"/>\r\n",
       "       <path d=\"M 2188 4044 \r\n",
       "L 1331 1722 \r\n",
       "L 3047 1722 \r\n",
       "L 2188 4044 \r\n",
       "z\r\n",
       "M 1831 4666 \r\n",
       "L 2547 4666 \r\n",
       "L 4325 0 \r\n",
       "L 3669 0 \r\n",
       "L 3244 1197 \r\n",
       "L 1141 1197 \r\n",
       "L 716 0 \r\n",
       "L 50 0 \r\n",
       "L 1831 4666 \r\n",
       "z\r\n",
       "\" id=\"DejaVuSans-41\" transform=\"scale(0.015625)\"/>\r\n",
       "       <path d=\"M 1831 0 \r\n",
       "L 50 4666 \r\n",
       "L 709 4666 \r\n",
       "L 2188 738 \r\n",
       "L 3669 4666 \r\n",
       "L 4325 4666 \r\n",
       "L 2547 0 \r\n",
       "L 1831 0 \r\n",
       "z\r\n",
       "\" id=\"DejaVuSans-56\" transform=\"scale(0.015625)\"/>\r\n",
       "      </defs>\r\n",
       "      <use xlink:href=\"#DejaVuSans-48\"/>\r\n",
       "      <use x=\"75.195312\" xlink:href=\"#DejaVuSans-7a\"/>\r\n",
       "      <use x=\"127.685547\" xlink:href=\"#DejaVuSans-2a\"/>\r\n",
       "      <use x=\"177.685547\" xlink:href=\"#DejaVuSans-47\"/>\r\n",
       "      <use x=\"255.175781\" xlink:href=\"#DejaVuSans-41\"/>\r\n",
       "      <use x=\"317.208984\" xlink:href=\"#DejaVuSans-56\"/>\r\n",
       "      <use x=\"385.617188\" xlink:href=\"#DejaVuSans-47\"/>\r\n",
       "     </g>\r\n",
       "    </g>\r\n",
       "   </g>\r\n",
       "   <g id=\"matplotlib.axis_2\">\r\n",
       "    <g id=\"ytick_1\">\r\n",
       "     <g id=\"line2d_6\">\r\n",
       "      <defs>\r\n",
       "       <path d=\"M 0 0 \r\n",
       "L -3.5 0 \r\n",
       "\" id=\"m8873a056fb\" style=\"stroke:#000000;stroke-width:0.8;\"/>\r\n",
       "      </defs>\r\n",
       "      <g>\r\n",
       "       <use style=\"stroke:#000000;stroke-width:0.8;\" x=\"50.1425\" xlink:href=\"#m8873a056fb\" y=\"443.509602\"/>\r\n",
       "      </g>\r\n",
       "     </g>\r\n",
       "     <g id=\"text_7\">\r\n",
       "      <!-- 1.0 -->\r\n",
       "      <g transform=\"translate(20.878125 448.828509)scale(0.14 -0.14)\">\r\n",
       "       <defs>\r\n",
       "        <path d=\"M 794 531 \r\n",
       "L 1825 531 \r\n",
       "L 1825 4091 \r\n",
       "L 703 3866 \r\n",
       "L 703 4441 \r\n",
       "L 1819 4666 \r\n",
       "L 2450 4666 \r\n",
       "L 2450 531 \r\n",
       "L 3481 531 \r\n",
       "L 3481 0 \r\n",
       "L 794 0 \r\n",
       "L 794 531 \r\n",
       "z\r\n",
       "\" id=\"DejaVuSans-31\" transform=\"scale(0.015625)\"/>\r\n",
       "       </defs>\r\n",
       "       <use xlink:href=\"#DejaVuSans-31\"/>\r\n",
       "       <use x=\"63.623047\" xlink:href=\"#DejaVuSans-2e\"/>\r\n",
       "       <use x=\"95.410156\" xlink:href=\"#DejaVuSans-30\"/>\r\n",
       "      </g>\r\n",
       "     </g>\r\n",
       "    </g>\r\n",
       "    <g id=\"ytick_2\">\r\n",
       "     <g id=\"line2d_7\">\r\n",
       "      <g>\r\n",
       "       <use style=\"stroke:#000000;stroke-width:0.8;\" x=\"50.1425\" xlink:href=\"#m8873a056fb\" y=\"353.658363\"/>\r\n",
       "      </g>\r\n",
       "     </g>\r\n",
       "     <g id=\"text_8\">\r\n",
       "      <!-- 1.5 -->\r\n",
       "      <g transform=\"translate(20.878125 358.977269)scale(0.14 -0.14)\">\r\n",
       "       <use xlink:href=\"#DejaVuSans-31\"/>\r\n",
       "       <use x=\"63.623047\" xlink:href=\"#DejaVuSans-2e\"/>\r\n",
       "       <use x=\"95.410156\" xlink:href=\"#DejaVuSans-35\"/>\r\n",
       "      </g>\r\n",
       "     </g>\r\n",
       "    </g>\r\n",
       "    <g id=\"ytick_3\">\r\n",
       "     <g id=\"line2d_8\">\r\n",
       "      <g>\r\n",
       "       <use style=\"stroke:#000000;stroke-width:0.8;\" x=\"50.1425\" xlink:href=\"#m8873a056fb\" y=\"263.807123\"/>\r\n",
       "      </g>\r\n",
       "     </g>\r\n",
       "     <g id=\"text_9\">\r\n",
       "      <!-- 2.0 -->\r\n",
       "      <g transform=\"translate(20.878125 269.126029)scale(0.14 -0.14)\">\r\n",
       "       <use xlink:href=\"#DejaVuSans-32\"/>\r\n",
       "       <use x=\"63.623047\" xlink:href=\"#DejaVuSans-2e\"/>\r\n",
       "       <use x=\"95.410156\" xlink:href=\"#DejaVuSans-30\"/>\r\n",
       "      </g>\r\n",
       "     </g>\r\n",
       "    </g>\r\n",
       "    <g id=\"ytick_4\">\r\n",
       "     <g id=\"line2d_9\">\r\n",
       "      <g>\r\n",
       "       <use style=\"stroke:#000000;stroke-width:0.8;\" x=\"50.1425\" xlink:href=\"#m8873a056fb\" y=\"173.955883\"/>\r\n",
       "      </g>\r\n",
       "     </g>\r\n",
       "     <g id=\"text_10\">\r\n",
       "      <!-- 2.5 -->\r\n",
       "      <g transform=\"translate(20.878125 179.27479)scale(0.14 -0.14)\">\r\n",
       "       <use xlink:href=\"#DejaVuSans-32\"/>\r\n",
       "       <use x=\"63.623047\" xlink:href=\"#DejaVuSans-2e\"/>\r\n",
       "       <use x=\"95.410156\" xlink:href=\"#DejaVuSans-35\"/>\r\n",
       "      </g>\r\n",
       "     </g>\r\n",
       "    </g>\r\n",
       "    <g id=\"ytick_5\">\r\n",
       "     <g id=\"line2d_10\">\r\n",
       "      <g>\r\n",
       "       <use style=\"stroke:#000000;stroke-width:0.8;\" x=\"50.1425\" xlink:href=\"#m8873a056fb\" y=\"84.104644\"/>\r\n",
       "      </g>\r\n",
       "     </g>\r\n",
       "     <g id=\"text_11\">\r\n",
       "      <!-- 3.0 -->\r\n",
       "      <g transform=\"translate(20.878125 89.42355)scale(0.14 -0.14)\">\r\n",
       "       <use xlink:href=\"#DejaVuSans-33\"/>\r\n",
       "       <use x=\"63.623047\" xlink:href=\"#DejaVuSans-2e\"/>\r\n",
       "       <use x=\"95.410156\" xlink:href=\"#DejaVuSans-30\"/>\r\n",
       "      </g>\r\n",
       "     </g>\r\n",
       "    </g>\r\n",
       "    <g id=\"text_12\">\r\n",
       "     <!-- FrecAVG(hz) -->\r\n",
       "     <g transform=\"translate(14.798438 276.209531)rotate(-90)scale(0.1 -0.1)\">\r\n",
       "      <defs>\r\n",
       "       <path d=\"M 628 4666 \r\n",
       "L 3309 4666 \r\n",
       "L 3309 4134 \r\n",
       "L 1259 4134 \r\n",
       "L 1259 2759 \r\n",
       "L 3109 2759 \r\n",
       "L 3109 2228 \r\n",
       "L 1259 2228 \r\n",
       "L 1259 0 \r\n",
       "L 628 0 \r\n",
       "L 628 4666 \r\n",
       "z\r\n",
       "\" id=\"DejaVuSans-46\" transform=\"scale(0.015625)\"/>\r\n",
       "       <path d=\"M 2631 2963 \r\n",
       "Q 2534 3019 2420 3045 \r\n",
       "Q 2306 3072 2169 3072 \r\n",
       "Q 1681 3072 1420 2755 \r\n",
       "Q 1159 2438 1159 1844 \r\n",
       "L 1159 0 \r\n",
       "L 581 0 \r\n",
       "L 581 3500 \r\n",
       "L 1159 3500 \r\n",
       "L 1159 2956 \r\n",
       "Q 1341 3275 1631 3429 \r\n",
       "Q 1922 3584 2338 3584 \r\n",
       "Q 2397 3584 2469 3576 \r\n",
       "Q 2541 3569 2628 3553 \r\n",
       "L 2631 2963 \r\n",
       "z\r\n",
       "\" id=\"DejaVuSans-72\" transform=\"scale(0.015625)\"/>\r\n",
       "       <path d=\"M 3597 1894 \r\n",
       "L 3597 1613 \r\n",
       "L 953 1613 \r\n",
       "Q 991 1019 1311 708 \r\n",
       "Q 1631 397 2203 397 \r\n",
       "Q 2534 397 2845 478 \r\n",
       "Q 3156 559 3463 722 \r\n",
       "L 3463 178 \r\n",
       "Q 3153 47 2828 -22 \r\n",
       "Q 2503 -91 2169 -91 \r\n",
       "Q 1331 -91 842 396 \r\n",
       "Q 353 884 353 1716 \r\n",
       "Q 353 2575 817 3079 \r\n",
       "Q 1281 3584 2069 3584 \r\n",
       "Q 2775 3584 3186 3129 \r\n",
       "Q 3597 2675 3597 1894 \r\n",
       "z\r\n",
       "M 3022 2063 \r\n",
       "Q 3016 2534 2758 2815 \r\n",
       "Q 2500 3097 2075 3097 \r\n",
       "Q 1594 3097 1305 2825 \r\n",
       "Q 1016 2553 972 2059 \r\n",
       "L 3022 2063 \r\n",
       "z\r\n",
       "\" id=\"DejaVuSans-65\" transform=\"scale(0.015625)\"/>\r\n",
       "       <path d=\"M 3122 3366 \r\n",
       "L 3122 2828 \r\n",
       "Q 2878 2963 2633 3030 \r\n",
       "Q 2388 3097 2138 3097 \r\n",
       "Q 1578 3097 1268 2742 \r\n",
       "Q 959 2388 959 1747 \r\n",
       "Q 959 1106 1268 751 \r\n",
       "Q 1578 397 2138 397 \r\n",
       "Q 2388 397 2633 464 \r\n",
       "Q 2878 531 3122 666 \r\n",
       "L 3122 134 \r\n",
       "Q 2881 22 2623 -34 \r\n",
       "Q 2366 -91 2075 -91 \r\n",
       "Q 1284 -91 818 406 \r\n",
       "Q 353 903 353 1747 \r\n",
       "Q 353 2603 823 3093 \r\n",
       "Q 1294 3584 2113 3584 \r\n",
       "Q 2378 3584 2631 3529 \r\n",
       "Q 2884 3475 3122 3366 \r\n",
       "z\r\n",
       "\" id=\"DejaVuSans-63\" transform=\"scale(0.015625)\"/>\r\n",
       "       <path d=\"M 1984 4856 \r\n",
       "Q 1566 4138 1362 3434 \r\n",
       "Q 1159 2731 1159 2009 \r\n",
       "Q 1159 1288 1364 580 \r\n",
       "Q 1569 -128 1984 -844 \r\n",
       "L 1484 -844 \r\n",
       "Q 1016 -109 783 600 \r\n",
       "Q 550 1309 550 2009 \r\n",
       "Q 550 2706 781 3412 \r\n",
       "Q 1013 4119 1484 4856 \r\n",
       "L 1984 4856 \r\n",
       "z\r\n",
       "\" id=\"DejaVuSans-28\" transform=\"scale(0.015625)\"/>\r\n",
       "       <path d=\"M 3513 2113 \r\n",
       "L 3513 0 \r\n",
       "L 2938 0 \r\n",
       "L 2938 2094 \r\n",
       "Q 2938 2591 2744 2837 \r\n",
       "Q 2550 3084 2163 3084 \r\n",
       "Q 1697 3084 1428 2787 \r\n",
       "Q 1159 2491 1159 1978 \r\n",
       "L 1159 0 \r\n",
       "L 581 0 \r\n",
       "L 581 4863 \r\n",
       "L 1159 4863 \r\n",
       "L 1159 2956 \r\n",
       "Q 1366 3272 1645 3428 \r\n",
       "Q 1925 3584 2291 3584 \r\n",
       "Q 2894 3584 3203 3211 \r\n",
       "Q 3513 2838 3513 2113 \r\n",
       "z\r\n",
       "\" id=\"DejaVuSans-68\" transform=\"scale(0.015625)\"/>\r\n",
       "       <path d=\"M 513 4856 \r\n",
       "L 1013 4856 \r\n",
       "Q 1481 4119 1714 3412 \r\n",
       "Q 1947 2706 1947 2009 \r\n",
       "Q 1947 1309 1714 600 \r\n",
       "Q 1481 -109 1013 -844 \r\n",
       "L 513 -844 \r\n",
       "Q 928 -128 1133 580 \r\n",
       "Q 1338 1288 1338 2009 \r\n",
       "Q 1338 2731 1133 3434 \r\n",
       "Q 928 4138 513 4856 \r\n",
       "z\r\n",
       "\" id=\"DejaVuSans-29\" transform=\"scale(0.015625)\"/>\r\n",
       "      </defs>\r\n",
       "      <use xlink:href=\"#DejaVuSans-46\"/>\r\n",
       "      <use x=\"50.269531\" xlink:href=\"#DejaVuSans-72\"/>\r\n",
       "      <use x=\"89.132812\" xlink:href=\"#DejaVuSans-65\"/>\r\n",
       "      <use x=\"150.65625\" xlink:href=\"#DejaVuSans-63\"/>\r\n",
       "      <use x=\"205.636719\" xlink:href=\"#DejaVuSans-41\"/>\r\n",
       "      <use x=\"267.669922\" xlink:href=\"#DejaVuSans-56\"/>\r\n",
       "      <use x=\"336.078125\" xlink:href=\"#DejaVuSans-47\"/>\r\n",
       "      <use x=\"413.568359\" xlink:href=\"#DejaVuSans-28\"/>\r\n",
       "      <use x=\"452.582031\" xlink:href=\"#DejaVuSans-68\"/>\r\n",
       "      <use x=\"515.960938\" xlink:href=\"#DejaVuSans-7a\"/>\r\n",
       "      <use x=\"568.451172\" xlink:href=\"#DejaVuSans-29\"/>\r\n",
       "     </g>\r\n",
       "    </g>\r\n",
       "   </g>\r\n",
       "   <g id=\"patch_3\">\r\n",
       "    <path d=\"M 50.1425 463.276875 \r\n",
       "L 50.1425 28.396875 \r\n",
       "\" style=\"fill:none;stroke:#000000;stroke-linecap:square;stroke-linejoin:miter;stroke-width:0.8;\"/>\r\n",
       "   </g>\r\n",
       "   <g id=\"patch_4\">\r\n",
       "    <path d=\"M 608.1425 463.276875 \r\n",
       "L 608.1425 28.396875 \r\n",
       "\" style=\"fill:none;stroke:#000000;stroke-linecap:square;stroke-linejoin:miter;stroke-width:0.8;\"/>\r\n",
       "   </g>\r\n",
       "   <g id=\"patch_5\">\r\n",
       "    <path d=\"M 50.1425 463.276875 \r\n",
       "L 608.1425 463.276875 \r\n",
       "\" style=\"fill:none;stroke:#000000;stroke-linecap:square;stroke-linejoin:miter;stroke-width:0.8;\"/>\r\n",
       "   </g>\r\n",
       "   <g id=\"patch_6\">\r\n",
       "    <path d=\"M 50.1425 28.396875 \r\n",
       "L 608.1425 28.396875 \r\n",
       "\" style=\"fill:none;stroke:#000000;stroke-linecap:square;stroke-linejoin:miter;stroke-width:0.8;\"/>\r\n",
       "   </g>\r\n",
       "   <g id=\"text_13\">\r\n",
       "    <!-- 2D interaction -->\r\n",
       "    <g transform=\"translate(257.820625 22.396875)scale(0.2 -0.2)\">\r\n",
       "     <defs>\r\n",
       "      <path d=\"M 1259 4147 \r\n",
       "L 1259 519 \r\n",
       "L 2022 519 \r\n",
       "Q 2988 519 3436 956 \r\n",
       "Q 3884 1394 3884 2338 \r\n",
       "Q 3884 3275 3436 3711 \r\n",
       "Q 2988 4147 2022 4147 \r\n",
       "L 1259 4147 \r\n",
       "z\r\n",
       "M 628 4666 \r\n",
       "L 1925 4666 \r\n",
       "Q 3281 4666 3915 4102 \r\n",
       "Q 4550 3538 4550 2338 \r\n",
       "Q 4550 1131 3912 565 \r\n",
       "Q 3275 0 1925 0 \r\n",
       "L 628 0 \r\n",
       "L 628 4666 \r\n",
       "z\r\n",
       "\" id=\"DejaVuSans-44\" transform=\"scale(0.015625)\"/>\r\n",
       "      <path id=\"DejaVuSans-20\" transform=\"scale(0.015625)\"/>\r\n",
       "      <path d=\"M 603 3500 \r\n",
       "L 1178 3500 \r\n",
       "L 1178 0 \r\n",
       "L 603 0 \r\n",
       "L 603 3500 \r\n",
       "z\r\n",
       "M 603 4863 \r\n",
       "L 1178 4863 \r\n",
       "L 1178 4134 \r\n",
       "L 603 4134 \r\n",
       "L 603 4863 \r\n",
       "z\r\n",
       "\" id=\"DejaVuSans-69\" transform=\"scale(0.015625)\"/>\r\n",
       "      <path d=\"M 3513 2113 \r\n",
       "L 3513 0 \r\n",
       "L 2938 0 \r\n",
       "L 2938 2094 \r\n",
       "Q 2938 2591 2744 2837 \r\n",
       "Q 2550 3084 2163 3084 \r\n",
       "Q 1697 3084 1428 2787 \r\n",
       "Q 1159 2491 1159 1978 \r\n",
       "L 1159 0 \r\n",
       "L 581 0 \r\n",
       "L 581 3500 \r\n",
       "L 1159 3500 \r\n",
       "L 1159 2956 \r\n",
       "Q 1366 3272 1645 3428 \r\n",
       "Q 1925 3584 2291 3584 \r\n",
       "Q 2894 3584 3203 3211 \r\n",
       "Q 3513 2838 3513 2113 \r\n",
       "z\r\n",
       "\" id=\"DejaVuSans-6e\" transform=\"scale(0.015625)\"/>\r\n",
       "      <path d=\"M 1172 4494 \r\n",
       "L 1172 3500 \r\n",
       "L 2356 3500 \r\n",
       "L 2356 3053 \r\n",
       "L 1172 3053 \r\n",
       "L 1172 1153 \r\n",
       "Q 1172 725 1289 603 \r\n",
       "Q 1406 481 1766 481 \r\n",
       "L 2356 481 \r\n",
       "L 2356 0 \r\n",
       "L 1766 0 \r\n",
       "Q 1100 0 847 248 \r\n",
       "Q 594 497 594 1153 \r\n",
       "L 594 3053 \r\n",
       "L 172 3053 \r\n",
       "L 172 3500 \r\n",
       "L 594 3500 \r\n",
       "L 594 4494 \r\n",
       "L 1172 4494 \r\n",
       "z\r\n",
       "\" id=\"DejaVuSans-74\" transform=\"scale(0.015625)\"/>\r\n",
       "      <path d=\"M 2194 1759 \r\n",
       "Q 1497 1759 1228 1600 \r\n",
       "Q 959 1441 959 1056 \r\n",
       "Q 959 750 1161 570 \r\n",
       "Q 1363 391 1709 391 \r\n",
       "Q 2188 391 2477 730 \r\n",
       "Q 2766 1069 2766 1631 \r\n",
       "L 2766 1759 \r\n",
       "L 2194 1759 \r\n",
       "z\r\n",
       "M 3341 1997 \r\n",
       "L 3341 0 \r\n",
       "L 2766 0 \r\n",
       "L 2766 531 \r\n",
       "Q 2569 213 2275 61 \r\n",
       "Q 1981 -91 1556 -91 \r\n",
       "Q 1019 -91 701 211 \r\n",
       "Q 384 513 384 1019 \r\n",
       "Q 384 1609 779 1909 \r\n",
       "Q 1175 2209 1959 2209 \r\n",
       "L 2766 2209 \r\n",
       "L 2766 2266 \r\n",
       "Q 2766 2663 2505 2880 \r\n",
       "Q 2244 3097 1772 3097 \r\n",
       "Q 1472 3097 1187 3025 \r\n",
       "Q 903 2953 641 2809 \r\n",
       "L 641 3341 \r\n",
       "Q 956 3463 1253 3523 \r\n",
       "Q 1550 3584 1831 3584 \r\n",
       "Q 2591 3584 2966 3190 \r\n",
       "Q 3341 2797 3341 1997 \r\n",
       "z\r\n",
       "\" id=\"DejaVuSans-61\" transform=\"scale(0.015625)\"/>\r\n",
       "      <path d=\"M 1959 3097 \r\n",
       "Q 1497 3097 1228 2736 \r\n",
       "Q 959 2375 959 1747 \r\n",
       "Q 959 1119 1226 758 \r\n",
       "Q 1494 397 1959 397 \r\n",
       "Q 2419 397 2687 759 \r\n",
       "Q 2956 1122 2956 1747 \r\n",
       "Q 2956 2369 2687 2733 \r\n",
       "Q 2419 3097 1959 3097 \r\n",
       "z\r\n",
       "M 1959 3584 \r\n",
       "Q 2709 3584 3137 3096 \r\n",
       "Q 3566 2609 3566 1747 \r\n",
       "Q 3566 888 3137 398 \r\n",
       "Q 2709 -91 1959 -91 \r\n",
       "Q 1206 -91 779 398 \r\n",
       "Q 353 888 353 1747 \r\n",
       "Q 353 2609 779 3096 \r\n",
       "Q 1206 3584 1959 3584 \r\n",
       "z\r\n",
       "\" id=\"DejaVuSans-6f\" transform=\"scale(0.015625)\"/>\r\n",
       "     </defs>\r\n",
       "     <use xlink:href=\"#DejaVuSans-32\"/>\r\n",
       "     <use x=\"63.623047\" xlink:href=\"#DejaVuSans-44\"/>\r\n",
       "     <use x=\"140.625\" xlink:href=\"#DejaVuSans-20\"/>\r\n",
       "     <use x=\"172.412109\" xlink:href=\"#DejaVuSans-69\"/>\r\n",
       "     <use x=\"200.195312\" xlink:href=\"#DejaVuSans-6e\"/>\r\n",
       "     <use x=\"263.574219\" xlink:href=\"#DejaVuSans-74\"/>\r\n",
       "     <use x=\"302.783203\" xlink:href=\"#DejaVuSans-65\"/>\r\n",
       "     <use x=\"364.306641\" xlink:href=\"#DejaVuSans-72\"/>\r\n",
       "     <use x=\"405.419922\" xlink:href=\"#DejaVuSans-61\"/>\r\n",
       "     <use x=\"466.699219\" xlink:href=\"#DejaVuSans-63\"/>\r\n",
       "     <use x=\"521.679688\" xlink:href=\"#DejaVuSans-74\"/>\r\n",
       "     <use x=\"560.888672\" xlink:href=\"#DejaVuSans-69\"/>\r\n",
       "     <use x=\"588.671875\" xlink:href=\"#DejaVuSans-6f\"/>\r\n",
       "     <use x=\"649.853516\" xlink:href=\"#DejaVuSans-6e\"/>\r\n",
       "    </g>\r\n",
       "   </g>\r\n",
       "   <g id=\"legend_1\">\r\n",
       "    <g id=\"patch_7\">\r\n",
       "     <path d=\"M 57.1425 124.465625 \r\n",
       "L 161.189375 124.465625 \r\n",
       "Q 163.189375 124.465625 163.189375 122.465625 \r\n",
       "L 163.189375 35.396875 \r\n",
       "Q 163.189375 33.396875 161.189375 33.396875 \r\n",
       "L 57.1425 33.396875 \r\n",
       "Q 55.1425 33.396875 55.1425 35.396875 \r\n",
       "L 55.1425 122.465625 \r\n",
       "Q 55.1425 124.465625 57.1425 124.465625 \r\n",
       "z\r\n",
       "\" style=\"fill:#ffffff;opacity:0.8;stroke:#cccccc;stroke-linejoin:miter;\"/>\r\n",
       "    </g>\r\n",
       "    <g id=\"PathCollection_7\">\r\n",
       "     <g>\r\n",
       "      <use style=\"fill:#1f77b4;stroke:#1f77b4;\" x=\"69.1425\" xlink:href=\"#m09b901b17d\" y=\"42.370313\"/>\r\n",
       "     </g>\r\n",
       "    </g>\r\n",
       "    <g id=\"text_14\">\r\n",
       "     <!-- 0. PORTERA -->\r\n",
       "     <g transform=\"translate(87.1425 44.995313)scale(0.1 -0.1)\">\r\n",
       "      <defs>\r\n",
       "       <path d=\"M 1259 4147 \r\n",
       "L 1259 2394 \r\n",
       "L 2053 2394 \r\n",
       "Q 2494 2394 2734 2622 \r\n",
       "Q 2975 2850 2975 3272 \r\n",
       "Q 2975 3691 2734 3919 \r\n",
       "Q 2494 4147 2053 4147 \r\n",
       "L 1259 4147 \r\n",
       "z\r\n",
       "M 628 4666 \r\n",
       "L 2053 4666 \r\n",
       "Q 2838 4666 3239 4311 \r\n",
       "Q 3641 3956 3641 3272 \r\n",
       "Q 3641 2581 3239 2228 \r\n",
       "Q 2838 1875 2053 1875 \r\n",
       "L 1259 1875 \r\n",
       "L 1259 0 \r\n",
       "L 628 0 \r\n",
       "L 628 4666 \r\n",
       "z\r\n",
       "\" id=\"DejaVuSans-50\" transform=\"scale(0.015625)\"/>\r\n",
       "       <path d=\"M 2522 4238 \r\n",
       "Q 1834 4238 1429 3725 \r\n",
       "Q 1025 3213 1025 2328 \r\n",
       "Q 1025 1447 1429 934 \r\n",
       "Q 1834 422 2522 422 \r\n",
       "Q 3209 422 3611 934 \r\n",
       "Q 4013 1447 4013 2328 \r\n",
       "Q 4013 3213 3611 3725 \r\n",
       "Q 3209 4238 2522 4238 \r\n",
       "z\r\n",
       "M 2522 4750 \r\n",
       "Q 3503 4750 4090 4092 \r\n",
       "Q 4678 3434 4678 2328 \r\n",
       "Q 4678 1225 4090 567 \r\n",
       "Q 3503 -91 2522 -91 \r\n",
       "Q 1538 -91 948 565 \r\n",
       "Q 359 1222 359 2328 \r\n",
       "Q 359 3434 948 4092 \r\n",
       "Q 1538 4750 2522 4750 \r\n",
       "z\r\n",
       "\" id=\"DejaVuSans-4f\" transform=\"scale(0.015625)\"/>\r\n",
       "       <path d=\"M 2841 2188 \r\n",
       "Q 3044 2119 3236 1894 \r\n",
       "Q 3428 1669 3622 1275 \r\n",
       "L 4263 0 \r\n",
       "L 3584 0 \r\n",
       "L 2988 1197 \r\n",
       "Q 2756 1666 2539 1819 \r\n",
       "Q 2322 1972 1947 1972 \r\n",
       "L 1259 1972 \r\n",
       "L 1259 0 \r\n",
       "L 628 0 \r\n",
       "L 628 4666 \r\n",
       "L 2053 4666 \r\n",
       "Q 2853 4666 3247 4331 \r\n",
       "Q 3641 3997 3641 3322 \r\n",
       "Q 3641 2881 3436 2590 \r\n",
       "Q 3231 2300 2841 2188 \r\n",
       "z\r\n",
       "M 1259 4147 \r\n",
       "L 1259 2491 \r\n",
       "L 2053 2491 \r\n",
       "Q 2509 2491 2742 2702 \r\n",
       "Q 2975 2913 2975 3322 \r\n",
       "Q 2975 3731 2742 3939 \r\n",
       "Q 2509 4147 2053 4147 \r\n",
       "L 1259 4147 \r\n",
       "z\r\n",
       "\" id=\"DejaVuSans-52\" transform=\"scale(0.015625)\"/>\r\n",
       "       <path d=\"M -19 4666 \r\n",
       "L 3928 4666 \r\n",
       "L 3928 4134 \r\n",
       "L 2272 4134 \r\n",
       "L 2272 0 \r\n",
       "L 1638 0 \r\n",
       "L 1638 4134 \r\n",
       "L -19 4134 \r\n",
       "L -19 4666 \r\n",
       "z\r\n",
       "\" id=\"DejaVuSans-54\" transform=\"scale(0.015625)\"/>\r\n",
       "       <path d=\"M 628 4666 \r\n",
       "L 3578 4666 \r\n",
       "L 3578 4134 \r\n",
       "L 1259 4134 \r\n",
       "L 1259 2753 \r\n",
       "L 3481 2753 \r\n",
       "L 3481 2222 \r\n",
       "L 1259 2222 \r\n",
       "L 1259 531 \r\n",
       "L 3634 531 \r\n",
       "L 3634 0 \r\n",
       "L 628 0 \r\n",
       "L 628 4666 \r\n",
       "z\r\n",
       "\" id=\"DejaVuSans-45\" transform=\"scale(0.015625)\"/>\r\n",
       "      </defs>\r\n",
       "      <use xlink:href=\"#DejaVuSans-30\"/>\r\n",
       "      <use x=\"63.623047\" xlink:href=\"#DejaVuSans-2e\"/>\r\n",
       "      <use x=\"95.410156\" xlink:href=\"#DejaVuSans-20\"/>\r\n",
       "      <use x=\"127.197266\" xlink:href=\"#DejaVuSans-50\"/>\r\n",
       "      <use x=\"187.5\" xlink:href=\"#DejaVuSans-4f\"/>\r\n",
       "      <use x=\"266.210938\" xlink:href=\"#DejaVuSans-52\"/>\r\n",
       "      <use x=\"328.443359\" xlink:href=\"#DejaVuSans-54\"/>\r\n",
       "      <use x=\"389.527344\" xlink:href=\"#DejaVuSans-45\"/>\r\n",
       "      <use x=\"452.710938\" xlink:href=\"#DejaVuSans-52\"/>\r\n",
       "      <use x=\"518.193359\" xlink:href=\"#DejaVuSans-41\"/>\r\n",
       "     </g>\r\n",
       "    </g>\r\n",
       "    <g id=\"PathCollection_8\">\r\n",
       "     <g>\r\n",
       "      <use style=\"fill:#ff7f0e;stroke:#ff7f0e;\" x=\"69.1425\" xlink:href=\"#m8e0f1dcbe8\" y=\"57.048438\"/>\r\n",
       "     </g>\r\n",
       "    </g>\r\n",
       "    <g id=\"text_15\">\r\n",
       "     <!-- 1. CIERRE -->\r\n",
       "     <g transform=\"translate(87.1425 59.673438)scale(0.1 -0.1)\">\r\n",
       "      <defs>\r\n",
       "       <path d=\"M 4122 4306 \r\n",
       "L 4122 3641 \r\n",
       "Q 3803 3938 3442 4084 \r\n",
       "Q 3081 4231 2675 4231 \r\n",
       "Q 1875 4231 1450 3742 \r\n",
       "Q 1025 3253 1025 2328 \r\n",
       "Q 1025 1406 1450 917 \r\n",
       "Q 1875 428 2675 428 \r\n",
       "Q 3081 428 3442 575 \r\n",
       "Q 3803 722 4122 1019 \r\n",
       "L 4122 359 \r\n",
       "Q 3791 134 3420 21 \r\n",
       "Q 3050 -91 2638 -91 \r\n",
       "Q 1578 -91 968 557 \r\n",
       "Q 359 1206 359 2328 \r\n",
       "Q 359 3453 968 4101 \r\n",
       "Q 1578 4750 2638 4750 \r\n",
       "Q 3056 4750 3426 4639 \r\n",
       "Q 3797 4528 4122 4306 \r\n",
       "z\r\n",
       "\" id=\"DejaVuSans-43\" transform=\"scale(0.015625)\"/>\r\n",
       "       <path d=\"M 628 4666 \r\n",
       "L 1259 4666 \r\n",
       "L 1259 0 \r\n",
       "L 628 0 \r\n",
       "L 628 4666 \r\n",
       "z\r\n",
       "\" id=\"DejaVuSans-49\" transform=\"scale(0.015625)\"/>\r\n",
       "      </defs>\r\n",
       "      <use xlink:href=\"#DejaVuSans-31\"/>\r\n",
       "      <use x=\"63.623047\" xlink:href=\"#DejaVuSans-2e\"/>\r\n",
       "      <use x=\"95.410156\" xlink:href=\"#DejaVuSans-20\"/>\r\n",
       "      <use x=\"127.197266\" xlink:href=\"#DejaVuSans-43\"/>\r\n",
       "      <use x=\"197.021484\" xlink:href=\"#DejaVuSans-49\"/>\r\n",
       "      <use x=\"226.513672\" xlink:href=\"#DejaVuSans-45\"/>\r\n",
       "      <use x=\"289.697266\" xlink:href=\"#DejaVuSans-52\"/>\r\n",
       "      <use x=\"359.179688\" xlink:href=\"#DejaVuSans-52\"/>\r\n",
       "      <use x=\"428.662109\" xlink:href=\"#DejaVuSans-45\"/>\r\n",
       "     </g>\r\n",
       "    </g>\r\n",
       "    <g id=\"PathCollection_9\">\r\n",
       "     <g>\r\n",
       "      <use style=\"fill:#2ca02c;stroke:#2ca02c;\" x=\"69.1425\" xlink:href=\"#m4574d5d077\" y=\"71.726562\"/>\r\n",
       "     </g>\r\n",
       "    </g>\r\n",
       "    <g id=\"text_16\">\r\n",
       "     <!-- 2. ALA-CIERRE -->\r\n",
       "     <g transform=\"translate(87.1425 74.351562)scale(0.1 -0.1)\">\r\n",
       "      <defs>\r\n",
       "       <path d=\"M 628 4666 \r\n",
       "L 1259 4666 \r\n",
       "L 1259 531 \r\n",
       "L 3531 531 \r\n",
       "L 3531 0 \r\n",
       "L 628 0 \r\n",
       "L 628 4666 \r\n",
       "z\r\n",
       "\" id=\"DejaVuSans-4c\" transform=\"scale(0.015625)\"/>\r\n",
       "       <path d=\"M 313 2009 \r\n",
       "L 1997 2009 \r\n",
       "L 1997 1497 \r\n",
       "L 313 1497 \r\n",
       "L 313 2009 \r\n",
       "z\r\n",
       "\" id=\"DejaVuSans-2d\" transform=\"scale(0.015625)\"/>\r\n",
       "      </defs>\r\n",
       "      <use xlink:href=\"#DejaVuSans-32\"/>\r\n",
       "      <use x=\"63.623047\" xlink:href=\"#DejaVuSans-2e\"/>\r\n",
       "      <use x=\"95.410156\" xlink:href=\"#DejaVuSans-20\"/>\r\n",
       "      <use x=\"127.197266\" xlink:href=\"#DejaVuSans-41\"/>\r\n",
       "      <use x=\"195.605469\" xlink:href=\"#DejaVuSans-4c\"/>\r\n",
       "      <use x=\"253.568359\" xlink:href=\"#DejaVuSans-41\"/>\r\n",
       "      <use x=\"319.726562\" xlink:href=\"#DejaVuSans-2d\"/>\r\n",
       "      <use x=\"355.810547\" xlink:href=\"#DejaVuSans-43\"/>\r\n",
       "      <use x=\"425.634766\" xlink:href=\"#DejaVuSans-49\"/>\r\n",
       "      <use x=\"455.126953\" xlink:href=\"#DejaVuSans-45\"/>\r\n",
       "      <use x=\"518.310547\" xlink:href=\"#DejaVuSans-52\"/>\r\n",
       "      <use x=\"587.792969\" xlink:href=\"#DejaVuSans-52\"/>\r\n",
       "      <use x=\"657.275391\" xlink:href=\"#DejaVuSans-45\"/>\r\n",
       "     </g>\r\n",
       "    </g>\r\n",
       "    <g id=\"PathCollection_10\">\r\n",
       "     <g>\r\n",
       "      <use style=\"fill:#d62728;stroke:#d62728;\" x=\"69.1425\" xlink:href=\"#m97acde96ca\" y=\"86.404688\"/>\r\n",
       "     </g>\r\n",
       "    </g>\r\n",
       "    <g id=\"text_17\">\r\n",
       "     <!-- 3. ALA -->\r\n",
       "     <g transform=\"translate(87.1425 89.029688)scale(0.1 -0.1)\">\r\n",
       "      <use xlink:href=\"#DejaVuSans-33\"/>\r\n",
       "      <use x=\"63.623047\" xlink:href=\"#DejaVuSans-2e\"/>\r\n",
       "      <use x=\"95.410156\" xlink:href=\"#DejaVuSans-20\"/>\r\n",
       "      <use x=\"127.197266\" xlink:href=\"#DejaVuSans-41\"/>\r\n",
       "      <use x=\"195.605469\" xlink:href=\"#DejaVuSans-4c\"/>\r\n",
       "      <use x=\"253.568359\" xlink:href=\"#DejaVuSans-41\"/>\r\n",
       "     </g>\r\n",
       "    </g>\r\n",
       "    <g id=\"PathCollection_11\">\r\n",
       "     <g>\r\n",
       "      <use style=\"fill:#9467bd;stroke:#9467bd;\" x=\"69.1425\" xlink:href=\"#m5e32d14bac\" y=\"101.082813\"/>\r\n",
       "     </g>\r\n",
       "    </g>\r\n",
       "    <g id=\"text_18\">\r\n",
       "     <!-- 4. ALA-PIVOT -->\r\n",
       "     <g transform=\"translate(87.1425 103.707813)scale(0.1 -0.1)\">\r\n",
       "      <use xlink:href=\"#DejaVuSans-34\"/>\r\n",
       "      <use x=\"63.623047\" xlink:href=\"#DejaVuSans-2e\"/>\r\n",
       "      <use x=\"95.410156\" xlink:href=\"#DejaVuSans-20\"/>\r\n",
       "      <use x=\"127.197266\" xlink:href=\"#DejaVuSans-41\"/>\r\n",
       "      <use x=\"195.605469\" xlink:href=\"#DejaVuSans-4c\"/>\r\n",
       "      <use x=\"253.568359\" xlink:href=\"#DejaVuSans-41\"/>\r\n",
       "      <use x=\"319.726562\" xlink:href=\"#DejaVuSans-2d\"/>\r\n",
       "      <use x=\"355.810547\" xlink:href=\"#DejaVuSans-50\"/>\r\n",
       "      <use x=\"416.113281\" xlink:href=\"#DejaVuSans-49\"/>\r\n",
       "      <use x=\"445.605469\" xlink:href=\"#DejaVuSans-56\"/>\r\n",
       "      <use x=\"512.263672\" xlink:href=\"#DejaVuSans-4f\"/>\r\n",
       "      <use x=\"590.974609\" xlink:href=\"#DejaVuSans-54\"/>\r\n",
       "     </g>\r\n",
       "    </g>\r\n",
       "    <g id=\"PathCollection_12\">\r\n",
       "     <g>\r\n",
       "      <use style=\"fill:#8c564b;stroke:#8c564b;\" x=\"69.1425\" xlink:href=\"#ma431a17627\" y=\"115.760938\"/>\r\n",
       "     </g>\r\n",
       "    </g>\r\n",
       "    <g id=\"text_19\">\r\n",
       "     <!-- 5. PIVOT -->\r\n",
       "     <g transform=\"translate(87.1425 118.385938)scale(0.1 -0.1)\">\r\n",
       "      <use xlink:href=\"#DejaVuSans-35\"/>\r\n",
       "      <use x=\"63.623047\" xlink:href=\"#DejaVuSans-2e\"/>\r\n",
       "      <use x=\"95.410156\" xlink:href=\"#DejaVuSans-20\"/>\r\n",
       "      <use x=\"127.197266\" xlink:href=\"#DejaVuSans-50\"/>\r\n",
       "      <use x=\"187.5\" xlink:href=\"#DejaVuSans-49\"/>\r\n",
       "      <use x=\"216.992188\" xlink:href=\"#DejaVuSans-56\"/>\r\n",
       "      <use x=\"283.650391\" xlink:href=\"#DejaVuSans-4f\"/>\r\n",
       "      <use x=\"362.361328\" xlink:href=\"#DejaVuSans-54\"/>\r\n",
       "     </g>\r\n",
       "    </g>\r\n",
       "   </g>\r\n",
       "  </g>\r\n",
       " </g>\r\n",
       " <defs>\r\n",
       "  <clipPath id=\"paae8b670fc\">\r\n",
       "   <rect height=\"434.88\" width=\"558\" x=\"50.1425\" y=\"28.396875\"/>\r\n",
       "  </clipPath>\r\n",
       " </defs>\r\n",
       "</svg>\r\n"
      ],
      "text/plain": [
       "<Figure size 720x576 with 1 Axes>"
      ]
     },
     "metadata": {
      "needs_background": "light"
     },
     "output_type": "display_data"
    },
    {
     "data": {
      "application/vnd.plotly.v1+json": {
       "config": {
        "plotlyServerURL": "https://plot.ly"
       },
       "data": [
        {
         "hovertemplate": "Posicion=4. ALA-PIVOT<br>Hz*GAVG=%{x}<br>FrecAVG(hz)=%{y}<br>SprintRelCnt(#)=%{z}<extra></extra>",
         "legendgroup": "4. ALA-PIVOT",
         "marker": {
          "color": "#636efa",
          "symbol": "circle"
         },
         "mode": "markers",
         "name": "4. ALA-PIVOT",
         "scene": "scene",
         "showlegend": true,
         "type": "scatter3d",
         "x": [
          0.44,
          0.54,
          0.33999999999999997
         ],
         "y": [
          2.2,
          2.8,
          1.9
         ],
         "z": [
          1,
          0,
          0
         ]
        },
        {
         "hovertemplate": "Posicion=0. PORTERA<br>Hz*GAVG=%{x}<br>FrecAVG(hz)=%{y}<br>SprintRelCnt(#)=%{z}<extra></extra>",
         "legendgroup": "0. PORTERA",
         "marker": {
          "color": "#EF553B",
          "symbol": "circle"
         },
         "mode": "markers",
         "name": "0. PORTERA",
         "scene": "scene",
         "showlegend": true,
         "type": "scatter3d",
         "x": [
          0.2,
          0.2
         ],
         "y": [
          1.2999999999999998,
          1
         ],
         "z": [
          0,
          0
         ]
        },
        {
         "hovertemplate": "Posicion=2. ALA-CIERRE<br>Hz*GAVG=%{x}<br>FrecAVG(hz)=%{y}<br>SprintRelCnt(#)=%{z}<extra></extra>",
         "legendgroup": "2. ALA-CIERRE",
         "marker": {
          "color": "#00cc96",
          "symbol": "circle"
         },
         "mode": "markers",
         "name": "2. ALA-CIERRE",
         "scene": "scene",
         "showlegend": true,
         "type": "scatter3d",
         "x": [
          0.42000000000000004,
          0.52
         ],
         "y": [
          2.2,
          2.8
         ],
         "z": [
          0,
          0
         ]
        },
        {
         "hovertemplate": "Posicion=5. PIVOT<br>Hz*GAVG=%{x}<br>FrecAVG(hz)=%{y}<br>SprintRelCnt(#)=%{z}<extra></extra>",
         "legendgroup": "5. PIVOT",
         "marker": {
          "color": "#ab63fa",
          "symbol": "circle"
         },
         "mode": "markers",
         "name": "5. PIVOT",
         "scene": "scene",
         "showlegend": true,
         "type": "scatter3d",
         "x": [
          0.35,
          0.65
         ],
         "y": [
          2,
          3.2
         ],
         "z": [
          0,
          0
         ]
        },
        {
         "hovertemplate": "Posicion=3. ALA<br>Hz*GAVG=%{x}<br>FrecAVG(hz)=%{y}<br>SprintRelCnt(#)=%{z}<extra></extra>",
         "legendgroup": "3. ALA",
         "marker": {
          "color": "#FFA15A",
          "symbol": "circle"
         },
         "mode": "markers",
         "name": "3. ALA",
         "scene": "scene",
         "showlegend": true,
         "type": "scatter3d",
         "x": [
          0.32999999999999996,
          0.32999999999999996
         ],
         "y": [
          1.9,
          2
         ],
         "z": [
          1,
          0
         ]
        },
        {
         "hovertemplate": "Posicion=1. CIERRE<br>Hz*GAVG=%{x}<br>FrecAVG(hz)=%{y}<br>SprintRelCnt(#)=%{z}<extra></extra>",
         "legendgroup": "1. CIERRE",
         "marker": {
          "color": "#19d3f3",
          "symbol": "circle"
         },
         "mode": "markers",
         "name": "1. CIERRE",
         "scene": "scene",
         "showlegend": true,
         "type": "scatter3d",
         "x": [
          0.36,
          0.31
         ],
         "y": [
          2.05,
          2
         ],
         "z": [
          0,
          0
         ]
        }
       ],
       "layout": {
        "height": 800,
        "legend": {
         "title": {
          "text": "Posicion"
         },
         "tracegroupgap": 0
        },
        "scene": {
         "domain": {
          "x": [
           0,
           1
          ],
          "y": [
           0,
           1
          ]
         },
         "xaxis": {
          "title": {
           "text": "Hz*GAVG"
          }
         },
         "yaxis": {
          "title": {
           "text": "FrecAVG(hz)"
          }
         },
         "zaxis": {
          "title": {
           "text": "SprintRelCnt(#)"
          }
         }
        },
        "template": {
         "data": {
          "bar": [
           {
            "error_x": {
             "color": "#2a3f5f"
            },
            "error_y": {
             "color": "#2a3f5f"
            },
            "marker": {
             "line": {
              "color": "#E5ECF6",
              "width": 0.5
             },
             "pattern": {
              "fillmode": "overlay",
              "size": 10,
              "solidity": 0.2
             }
            },
            "type": "bar"
           }
          ],
          "barpolar": [
           {
            "marker": {
             "line": {
              "color": "#E5ECF6",
              "width": 0.5
             },
             "pattern": {
              "fillmode": "overlay",
              "size": 10,
              "solidity": 0.2
             }
            },
            "type": "barpolar"
           }
          ],
          "carpet": [
           {
            "aaxis": {
             "endlinecolor": "#2a3f5f",
             "gridcolor": "white",
             "linecolor": "white",
             "minorgridcolor": "white",
             "startlinecolor": "#2a3f5f"
            },
            "baxis": {
             "endlinecolor": "#2a3f5f",
             "gridcolor": "white",
             "linecolor": "white",
             "minorgridcolor": "white",
             "startlinecolor": "#2a3f5f"
            },
            "type": "carpet"
           }
          ],
          "choropleth": [
           {
            "colorbar": {
             "outlinewidth": 0,
             "ticks": ""
            },
            "type": "choropleth"
           }
          ],
          "contour": [
           {
            "colorbar": {
             "outlinewidth": 0,
             "ticks": ""
            },
            "colorscale": [
             [
              0,
              "#0d0887"
             ],
             [
              0.1111111111111111,
              "#46039f"
             ],
             [
              0.2222222222222222,
              "#7201a8"
             ],
             [
              0.3333333333333333,
              "#9c179e"
             ],
             [
              0.4444444444444444,
              "#bd3786"
             ],
             [
              0.5555555555555556,
              "#d8576b"
             ],
             [
              0.6666666666666666,
              "#ed7953"
             ],
             [
              0.7777777777777778,
              "#fb9f3a"
             ],
             [
              0.8888888888888888,
              "#fdca26"
             ],
             [
              1,
              "#f0f921"
             ]
            ],
            "type": "contour"
           }
          ],
          "contourcarpet": [
           {
            "colorbar": {
             "outlinewidth": 0,
             "ticks": ""
            },
            "type": "contourcarpet"
           }
          ],
          "heatmap": [
           {
            "colorbar": {
             "outlinewidth": 0,
             "ticks": ""
            },
            "colorscale": [
             [
              0,
              "#0d0887"
             ],
             [
              0.1111111111111111,
              "#46039f"
             ],
             [
              0.2222222222222222,
              "#7201a8"
             ],
             [
              0.3333333333333333,
              "#9c179e"
             ],
             [
              0.4444444444444444,
              "#bd3786"
             ],
             [
              0.5555555555555556,
              "#d8576b"
             ],
             [
              0.6666666666666666,
              "#ed7953"
             ],
             [
              0.7777777777777778,
              "#fb9f3a"
             ],
             [
              0.8888888888888888,
              "#fdca26"
             ],
             [
              1,
              "#f0f921"
             ]
            ],
            "type": "heatmap"
           }
          ],
          "heatmapgl": [
           {
            "colorbar": {
             "outlinewidth": 0,
             "ticks": ""
            },
            "colorscale": [
             [
              0,
              "#0d0887"
             ],
             [
              0.1111111111111111,
              "#46039f"
             ],
             [
              0.2222222222222222,
              "#7201a8"
             ],
             [
              0.3333333333333333,
              "#9c179e"
             ],
             [
              0.4444444444444444,
              "#bd3786"
             ],
             [
              0.5555555555555556,
              "#d8576b"
             ],
             [
              0.6666666666666666,
              "#ed7953"
             ],
             [
              0.7777777777777778,
              "#fb9f3a"
             ],
             [
              0.8888888888888888,
              "#fdca26"
             ],
             [
              1,
              "#f0f921"
             ]
            ],
            "type": "heatmapgl"
           }
          ],
          "histogram": [
           {
            "marker": {
             "pattern": {
              "fillmode": "overlay",
              "size": 10,
              "solidity": 0.2
             }
            },
            "type": "histogram"
           }
          ],
          "histogram2d": [
           {
            "colorbar": {
             "outlinewidth": 0,
             "ticks": ""
            },
            "colorscale": [
             [
              0,
              "#0d0887"
             ],
             [
              0.1111111111111111,
              "#46039f"
             ],
             [
              0.2222222222222222,
              "#7201a8"
             ],
             [
              0.3333333333333333,
              "#9c179e"
             ],
             [
              0.4444444444444444,
              "#bd3786"
             ],
             [
              0.5555555555555556,
              "#d8576b"
             ],
             [
              0.6666666666666666,
              "#ed7953"
             ],
             [
              0.7777777777777778,
              "#fb9f3a"
             ],
             [
              0.8888888888888888,
              "#fdca26"
             ],
             [
              1,
              "#f0f921"
             ]
            ],
            "type": "histogram2d"
           }
          ],
          "histogram2dcontour": [
           {
            "colorbar": {
             "outlinewidth": 0,
             "ticks": ""
            },
            "colorscale": [
             [
              0,
              "#0d0887"
             ],
             [
              0.1111111111111111,
              "#46039f"
             ],
             [
              0.2222222222222222,
              "#7201a8"
             ],
             [
              0.3333333333333333,
              "#9c179e"
             ],
             [
              0.4444444444444444,
              "#bd3786"
             ],
             [
              0.5555555555555556,
              "#d8576b"
             ],
             [
              0.6666666666666666,
              "#ed7953"
             ],
             [
              0.7777777777777778,
              "#fb9f3a"
             ],
             [
              0.8888888888888888,
              "#fdca26"
             ],
             [
              1,
              "#f0f921"
             ]
            ],
            "type": "histogram2dcontour"
           }
          ],
          "mesh3d": [
           {
            "colorbar": {
             "outlinewidth": 0,
             "ticks": ""
            },
            "type": "mesh3d"
           }
          ],
          "parcoords": [
           {
            "line": {
             "colorbar": {
              "outlinewidth": 0,
              "ticks": ""
             }
            },
            "type": "parcoords"
           }
          ],
          "pie": [
           {
            "automargin": true,
            "type": "pie"
           }
          ],
          "scatter": [
           {
            "fillpattern": {
             "fillmode": "overlay",
             "size": 10,
             "solidity": 0.2
            },
            "type": "scatter"
           }
          ],
          "scatter3d": [
           {
            "line": {
             "colorbar": {
              "outlinewidth": 0,
              "ticks": ""
             }
            },
            "marker": {
             "colorbar": {
              "outlinewidth": 0,
              "ticks": ""
             }
            },
            "type": "scatter3d"
           }
          ],
          "scattercarpet": [
           {
            "marker": {
             "colorbar": {
              "outlinewidth": 0,
              "ticks": ""
             }
            },
            "type": "scattercarpet"
           }
          ],
          "scattergeo": [
           {
            "marker": {
             "colorbar": {
              "outlinewidth": 0,
              "ticks": ""
             }
            },
            "type": "scattergeo"
           }
          ],
          "scattergl": [
           {
            "marker": {
             "colorbar": {
              "outlinewidth": 0,
              "ticks": ""
             }
            },
            "type": "scattergl"
           }
          ],
          "scattermapbox": [
           {
            "marker": {
             "colorbar": {
              "outlinewidth": 0,
              "ticks": ""
             }
            },
            "type": "scattermapbox"
           }
          ],
          "scatterpolar": [
           {
            "marker": {
             "colorbar": {
              "outlinewidth": 0,
              "ticks": ""
             }
            },
            "type": "scatterpolar"
           }
          ],
          "scatterpolargl": [
           {
            "marker": {
             "colorbar": {
              "outlinewidth": 0,
              "ticks": ""
             }
            },
            "type": "scatterpolargl"
           }
          ],
          "scatterternary": [
           {
            "marker": {
             "colorbar": {
              "outlinewidth": 0,
              "ticks": ""
             }
            },
            "type": "scatterternary"
           }
          ],
          "surface": [
           {
            "colorbar": {
             "outlinewidth": 0,
             "ticks": ""
            },
            "colorscale": [
             [
              0,
              "#0d0887"
             ],
             [
              0.1111111111111111,
              "#46039f"
             ],
             [
              0.2222222222222222,
              "#7201a8"
             ],
             [
              0.3333333333333333,
              "#9c179e"
             ],
             [
              0.4444444444444444,
              "#bd3786"
             ],
             [
              0.5555555555555556,
              "#d8576b"
             ],
             [
              0.6666666666666666,
              "#ed7953"
             ],
             [
              0.7777777777777778,
              "#fb9f3a"
             ],
             [
              0.8888888888888888,
              "#fdca26"
             ],
             [
              1,
              "#f0f921"
             ]
            ],
            "type": "surface"
           }
          ],
          "table": [
           {
            "cells": {
             "fill": {
              "color": "#EBF0F8"
             },
             "line": {
              "color": "white"
             }
            },
            "header": {
             "fill": {
              "color": "#C8D4E3"
             },
             "line": {
              "color": "white"
             }
            },
            "type": "table"
           }
          ]
         },
         "layout": {
          "annotationdefaults": {
           "arrowcolor": "#2a3f5f",
           "arrowhead": 0,
           "arrowwidth": 1
          },
          "autotypenumbers": "strict",
          "coloraxis": {
           "colorbar": {
            "outlinewidth": 0,
            "ticks": ""
           }
          },
          "colorscale": {
           "diverging": [
            [
             0,
             "#8e0152"
            ],
            [
             0.1,
             "#c51b7d"
            ],
            [
             0.2,
             "#de77ae"
            ],
            [
             0.3,
             "#f1b6da"
            ],
            [
             0.4,
             "#fde0ef"
            ],
            [
             0.5,
             "#f7f7f7"
            ],
            [
             0.6,
             "#e6f5d0"
            ],
            [
             0.7,
             "#b8e186"
            ],
            [
             0.8,
             "#7fbc41"
            ],
            [
             0.9,
             "#4d9221"
            ],
            [
             1,
             "#276419"
            ]
           ],
           "sequential": [
            [
             0,
             "#0d0887"
            ],
            [
             0.1111111111111111,
             "#46039f"
            ],
            [
             0.2222222222222222,
             "#7201a8"
            ],
            [
             0.3333333333333333,
             "#9c179e"
            ],
            [
             0.4444444444444444,
             "#bd3786"
            ],
            [
             0.5555555555555556,
             "#d8576b"
            ],
            [
             0.6666666666666666,
             "#ed7953"
            ],
            [
             0.7777777777777778,
             "#fb9f3a"
            ],
            [
             0.8888888888888888,
             "#fdca26"
            ],
            [
             1,
             "#f0f921"
            ]
           ],
           "sequentialminus": [
            [
             0,
             "#0d0887"
            ],
            [
             0.1111111111111111,
             "#46039f"
            ],
            [
             0.2222222222222222,
             "#7201a8"
            ],
            [
             0.3333333333333333,
             "#9c179e"
            ],
            [
             0.4444444444444444,
             "#bd3786"
            ],
            [
             0.5555555555555556,
             "#d8576b"
            ],
            [
             0.6666666666666666,
             "#ed7953"
            ],
            [
             0.7777777777777778,
             "#fb9f3a"
            ],
            [
             0.8888888888888888,
             "#fdca26"
            ],
            [
             1,
             "#f0f921"
            ]
           ]
          },
          "colorway": [
           "#636efa",
           "#EF553B",
           "#00cc96",
           "#ab63fa",
           "#FFA15A",
           "#19d3f3",
           "#FF6692",
           "#B6E880",
           "#FF97FF",
           "#FECB52"
          ],
          "font": {
           "color": "#2a3f5f"
          },
          "geo": {
           "bgcolor": "white",
           "lakecolor": "white",
           "landcolor": "#E5ECF6",
           "showlakes": true,
           "showland": true,
           "subunitcolor": "white"
          },
          "hoverlabel": {
           "align": "left"
          },
          "hovermode": "closest",
          "mapbox": {
           "style": "light"
          },
          "paper_bgcolor": "white",
          "plot_bgcolor": "#E5ECF6",
          "polar": {
           "angularaxis": {
            "gridcolor": "white",
            "linecolor": "white",
            "ticks": ""
           },
           "bgcolor": "#E5ECF6",
           "radialaxis": {
            "gridcolor": "white",
            "linecolor": "white",
            "ticks": ""
           }
          },
          "scene": {
           "xaxis": {
            "backgroundcolor": "#E5ECF6",
            "gridcolor": "white",
            "gridwidth": 2,
            "linecolor": "white",
            "showbackground": true,
            "ticks": "",
            "zerolinecolor": "white"
           },
           "yaxis": {
            "backgroundcolor": "#E5ECF6",
            "gridcolor": "white",
            "gridwidth": 2,
            "linecolor": "white",
            "showbackground": true,
            "ticks": "",
            "zerolinecolor": "white"
           },
           "zaxis": {
            "backgroundcolor": "#E5ECF6",
            "gridcolor": "white",
            "gridwidth": 2,
            "linecolor": "white",
            "showbackground": true,
            "ticks": "",
            "zerolinecolor": "white"
           }
          },
          "shapedefaults": {
           "line": {
            "color": "#2a3f5f"
           }
          },
          "ternary": {
           "aaxis": {
            "gridcolor": "white",
            "linecolor": "white",
            "ticks": ""
           },
           "baxis": {
            "gridcolor": "white",
            "linecolor": "white",
            "ticks": ""
           },
           "bgcolor": "#E5ECF6",
           "caxis": {
            "gridcolor": "white",
            "linecolor": "white",
            "ticks": ""
           }
          },
          "title": {
           "x": 0.05
          },
          "xaxis": {
           "automargin": true,
           "gridcolor": "white",
           "linecolor": "white",
           "ticks": "",
           "title": {
            "standoff": 15
           },
           "zerolinecolor": "white",
           "zerolinewidth": 2
          },
          "yaxis": {
           "automargin": true,
           "gridcolor": "white",
           "linecolor": "white",
           "ticks": "",
           "title": {
            "standoff": 15
           },
           "zerolinecolor": "white",
           "zerolinewidth": 2
          }
         }
        },
        "title": {
         "text": "3D interaction"
        },
        "width": 1000
       }
      }
     },
     "metadata": {},
     "output_type": "display_data"
    }
   ],
   "source": [
    "# fig = plt.figure(figsize=(10,8))\n",
    "\n",
    "# ax = plt.axes(projection='3d')\n",
    "\n",
    "# ax.set_xlabel('Hz*GAVG',fontsize=10)\n",
    "# ax.set_ylabel('FrecAVG(hz)',fontsize=10)\n",
    "# ax.set_zlabel(new,fontsize=10)\n",
    "\n",
    "targets = list(res['Posicion'].unique())\n",
    "targets.sort()\n",
    "\n",
    "# for target in targets:\n",
    "#     indicesToKeep = res['Posicion'] == target\n",
    "#     ax.scatter3D(res.loc[indicesToKeep, 'Hz*GAVG'],\n",
    "#                  res.loc[indicesToKeep, 'FrecAVG(hz)'],\n",
    "#                  res.loc[indicesToKeep, new], s = 50)\n",
    "\n",
    "# plt.legend(targets,prop={'size': 10})\n",
    "\n",
    "# plt.show()\n",
    "\n",
    "plt.figure()\n",
    "plt.figure(figsize=(10,8))\n",
    "plt.xticks(fontsize=12)\n",
    "plt.yticks(fontsize=14)\n",
    "plt.xlabel('Hz*GAVG',fontsize=10)\n",
    "plt.ylabel('FrecAVG(hz)',fontsize=10)\n",
    "plt.title(\"2D interaction\",fontsize=20)\n",
    "\n",
    "for target in targets:\n",
    "    indicesToKeep = res['Posicion'] == target\n",
    "    plt.scatter(res.loc[indicesToKeep, 'Hz*GAVG'],\n",
    "               res.loc[indicesToKeep, 'FrecAVG(hz)'], s = 50)\n",
    "\n",
    "plt.legend(targets,prop={'size': 10})\n",
    "plt.show()\n",
    "\n",
    "\n",
    "import plotly.express as px\n",
    "fig = px.scatter_3d(res, x='Hz*GAVG', y='FrecAVG(hz)', z=new,\n",
    "              color='Posicion', width=1000, height=800, title='3D interaction')\n",
    "fig.show()\n",
    "\n"
   ]
  },
  {
   "cell_type": "code",
   "execution_count": 163,
   "metadata": {},
   "outputs": [
    {
     "data": {
      "text/html": [
       "<div>\n",
       "<style scoped>\n",
       "    .dataframe tbody tr th:only-of-type {\n",
       "        vertical-align: middle;\n",
       "    }\n",
       "\n",
       "    .dataframe tbody tr th {\n",
       "        vertical-align: top;\n",
       "    }\n",
       "\n",
       "    .dataframe thead th {\n",
       "        text-align: right;\n",
       "    }\n",
       "</style>\n",
       "<table border=\"1\" class=\"dataframe\">\n",
       "  <thead>\n",
       "    <tr style=\"text-align: right;\">\n",
       "      <th></th>\n",
       "      <th>Posicion</th>\n",
       "      <th>Hz*GAVG</th>\n",
       "      <th>FrecAVG(hz)</th>\n",
       "      <th>SprintRelCnt(#)</th>\n",
       "    </tr>\n",
       "    <tr>\n",
       "      <th>Jugadora</th>\n",
       "      <th></th>\n",
       "      <th></th>\n",
       "      <th></th>\n",
       "      <th></th>\n",
       "    </tr>\n",
       "  </thead>\n",
       "  <tbody>\n",
       "    <tr>\n",
       "      <th>Alba</th>\n",
       "      <td>4. ALA-PIVOT</td>\n",
       "      <td>0.44</td>\n",
       "      <td>2.20</td>\n",
       "      <td>1.0</td>\n",
       "    </tr>\n",
       "    <tr>\n",
       "      <th>Almudena</th>\n",
       "      <td>0. PORTERA</td>\n",
       "      <td>0.20</td>\n",
       "      <td>1.30</td>\n",
       "      <td>0.0</td>\n",
       "    </tr>\n",
       "    <tr>\n",
       "      <th>Andrea</th>\n",
       "      <td>2. ALA-CIERRE</td>\n",
       "      <td>0.42</td>\n",
       "      <td>2.20</td>\n",
       "      <td>0.0</td>\n",
       "    </tr>\n",
       "    <tr>\n",
       "      <th>Angela</th>\n",
       "      <td>5. PIVOT</td>\n",
       "      <td>0.35</td>\n",
       "      <td>2.00</td>\n",
       "      <td>0.0</td>\n",
       "    </tr>\n",
       "    <tr>\n",
       "      <th>Consuelo</th>\n",
       "      <td>4. ALA-PIVOT</td>\n",
       "      <td>0.54</td>\n",
       "      <td>2.80</td>\n",
       "      <td>0.0</td>\n",
       "    </tr>\n",
       "    <tr>\n",
       "      <th>Cristi</th>\n",
       "      <td>3. ALA</td>\n",
       "      <td>0.33</td>\n",
       "      <td>1.90</td>\n",
       "      <td>1.0</td>\n",
       "    </tr>\n",
       "    <tr>\n",
       "      <th>Cristina</th>\n",
       "      <td>0. PORTERA</td>\n",
       "      <td>0.20</td>\n",
       "      <td>1.00</td>\n",
       "      <td>0.0</td>\n",
       "    </tr>\n",
       "    <tr>\n",
       "      <th>Lola</th>\n",
       "      <td>4. ALA-PIVOT</td>\n",
       "      <td>0.34</td>\n",
       "      <td>1.90</td>\n",
       "      <td>0.0</td>\n",
       "    </tr>\n",
       "    <tr>\n",
       "      <th>Marian</th>\n",
       "      <td>3. ALA</td>\n",
       "      <td>0.33</td>\n",
       "      <td>2.00</td>\n",
       "      <td>0.0</td>\n",
       "    </tr>\n",
       "    <tr>\n",
       "      <th>Marta</th>\n",
       "      <td>5. PIVOT</td>\n",
       "      <td>0.65</td>\n",
       "      <td>3.20</td>\n",
       "      <td>0.0</td>\n",
       "    </tr>\n",
       "    <tr>\n",
       "      <th>Mayte</th>\n",
       "      <td>1. CIERRE</td>\n",
       "      <td>0.36</td>\n",
       "      <td>2.05</td>\n",
       "      <td>0.0</td>\n",
       "    </tr>\n",
       "    <tr>\n",
       "      <th>Noelia</th>\n",
       "      <td>1. CIERRE</td>\n",
       "      <td>0.31</td>\n",
       "      <td>2.00</td>\n",
       "      <td>0.0</td>\n",
       "    </tr>\n",
       "    <tr>\n",
       "      <th>Pelegrin</th>\n",
       "      <td>2. ALA-CIERRE</td>\n",
       "      <td>0.52</td>\n",
       "      <td>2.80</td>\n",
       "      <td>0.0</td>\n",
       "    </tr>\n",
       "  </tbody>\n",
       "</table>\n",
       "</div>"
      ],
      "text/plain": [
       "               Posicion  Hz*GAVG  FrecAVG(hz)  SprintRelCnt(#)\n",
       "Jugadora                                                      \n",
       "Alba       4. ALA-PIVOT     0.44         2.20              1.0\n",
       "Almudena     0. PORTERA     0.20         1.30              0.0\n",
       "Andrea    2. ALA-CIERRE     0.42         2.20              0.0\n",
       "Angela         5. PIVOT     0.35         2.00              0.0\n",
       "Consuelo   4. ALA-PIVOT     0.54         2.80              0.0\n",
       "Cristi           3. ALA     0.33         1.90              1.0\n",
       "Cristina     0. PORTERA     0.20         1.00              0.0\n",
       "Lola       4. ALA-PIVOT     0.34         1.90              0.0\n",
       "Marian           3. ALA     0.33         2.00              0.0\n",
       "Marta          5. PIVOT     0.65         3.20              0.0\n",
       "Mayte         1. CIERRE     0.36         2.05              0.0\n",
       "Noelia        1. CIERRE     0.31         2.00              0.0\n",
       "Pelegrin  2. ALA-CIERRE     0.52         2.80              0.0"
      ]
     },
     "execution_count": 163,
     "metadata": {},
     "output_type": "execute_result"
    }
   ],
   "source": [
    "res = datos.groupby(['Jugadora','Posicion'])[['Hz*GAVG', 'FrecAVG(hz)', new]].median()#agg(lambda x: pd.Series.mode(x)[0])\n",
    "res.reset_index(['Posicion'], inplace=True)\n",
    "for p,s in zip(targets, range(6)):\n",
    "    indicesToKeep = res['Posicion'] == p\n",
    "    res.loc[indicesToKeep, 'Hz*GAVG'] += s/100\n",
    "res"
   ]
  }
 ],
 "metadata": {
  "kernelspec": {
   "display_name": "base",
   "language": "python",
   "name": "python3"
  },
  "language_info": {
   "codemirror_mode": {
    "name": "ipython",
    "version": 3
   },
   "file_extension": ".py",
   "mimetype": "text/x-python",
   "name": "python",
   "nbconvert_exporter": "python",
   "pygments_lexer": "ipython3",
   "version": "3.9.7"
  },
  "orig_nbformat": 4,
  "vscode": {
   "interpreter": {
    "hash": "7563fc23a67347b817ff35caf6513d9bc5c54dd304f53e77ac1192a8a3e8c7a6"
   }
  }
 },
 "nbformat": 4,
 "nbformat_minor": 2
}

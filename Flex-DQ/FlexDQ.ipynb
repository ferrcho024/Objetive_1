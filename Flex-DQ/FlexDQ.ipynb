{
 "cells": [
  {
   "cell_type": "code",
   "execution_count": null,
   "metadata": {},
   "outputs": [],
   "source": [
    "### Import libraries\n",
    "\n",
    "import General_f as Gf\n",
    "import pandas as pd\n",
    "pd.set_option(\"display.precision\", 2)\n",
    "import numpy as np\n",
    "import importlib\n",
    "import wx\n",
    "import DQ_measure_f as DQf\n",
    "from matplotlib import pyplot as plt\n",
    "from IPython.display import display\n",
    "from matplotlib import pyplot as plt\n",
    "\n",
    "pd.options.mode.chained_assignment = None  # default='warn' --- Para quitar los warnings de pandas y python\n"
   ]
  },
  {
   "cell_type": "markdown",
   "metadata": {},
   "source": [
    "### Step 1 - Characterization of Database Type"
   ]
  },
  {
   "cell_type": "code",
   "execution_count": null,
   "metadata": {},
   "outputs": [],
   "source": [
    "importlib.reload(Gf)\n",
    "\n",
    "app = wx.App()\n",
    "dbType = Gf.MyDataBase()\n",
    "dbType.CenterOnScreen()\n",
    "app.SetTopWindow(dbType)\n",
    "app.MainLoop()\n",
    "app.Destroy()\n",
    "\n",
    "if not dbType.ban: \n",
    "    print('You must select an option before the next step.')"
   ]
  },
  {
   "cell_type": "markdown",
   "metadata": {},
   "source": [
    "### Step 2 - Characterization of Variable Type"
   ]
  },
  {
   "cell_type": "code",
   "execution_count": null,
   "metadata": {},
   "outputs": [],
   "source": [
    "if not dbType.ban:\n",
    "    print('You must select an option in the step 1.')\n",
    "else:\n",
    "    importlib.reload(Gf)\n",
    "    df,_ = Gf.check_df()"
   ]
  },
  {
   "cell_type": "code",
   "execution_count": null,
   "metadata": {},
   "outputs": [],
   "source": [
    "importlib.reload(Gf)\n",
    "\n",
    "app = wx.App()\n",
    "Answers = Gf.MyDims()\n",
    "Answers.CenterOnScreen()\n",
    "app.SetTopWindow(Answers)\n",
    "app.MainLoop()\n",
    "app.Destroy()\n",
    "\n",
    "if not Answers.ban: \n",
    "    print('You must answer the questions before the next step.')"
   ]
  },
  {
   "cell_type": "markdown",
   "metadata": {},
   "source": [
    "### Step 3 - Dimension Selection and Weight Assignment"
   ]
  },
  {
   "cell_type": "code",
   "execution_count": null,
   "metadata": {},
   "outputs": [],
   "source": [
    "importlib.reload(Gf)\n",
    "\n",
    "if not Answers.ban:\n",
    "    print('You must answer the questions in the step 2.')\n",
    "else:\n",
    "    dims = list(set(dbType.dimensions + Answers.dimensions))\n",
    "\n",
    "    app = wx.App()\n",
    "    frame = Gf.MyFrame(dims)\n",
    "    frame.CenterOnScreen()\n",
    "    app.SetTopWindow(frame)\n",
    "    app.MainLoop()\n",
    "    app.Destroy()"
   ]
  },
  {
   "cell_type": "markdown",
   "metadata": {},
   "source": [
    "### Step 4 - Evaluation of Selected Dimensions"
   ]
  },
  {
   "cell_type": "code",
   "execution_count": null,
   "metadata": {},
   "outputs": [],
   "source": [
    "importlib.reload(Gf)\n",
    "if any(x in frame.dimensions.keys() for x in ['Accuracy', 'Uncertainty', 'Concordance']):\n",
    "    app = wx.App()\n",
    "    file = Gf.FileUpload()\n",
    "    file.CenterOnScreen()\n",
    "    app.SetTopWindow(file)\n",
    "    app.MainLoop()\n",
    "    app.Destroy()\n",
    "\n",
    "    if file.ban:\n",
    "        ref,_ = Gf.check_df()\n",
    "    else: \n",
    "        print('You must load a reference dataset.')\n"
   ]
  },
  {
   "cell_type": "code",
   "execution_count": null,
   "metadata": {},
   "outputs": [],
   "source": [
    "importlib.reload(DQf)\n",
    "datos = df.copy()\n",
    "DQ_dim = {}\n",
    "\n",
    "for d in frame.dimensions.items():\n",
    "    if d[1] > 0:\n",
    "        if d[0] == 'Completeness':\n",
    "            compl, muestra = DQf.completeness(datos, clean=False)\n",
    "            if not pd.isna(compl):\n",
    "                DQ_dim['Completeness'] = compl\n",
    "        \n",
    "        #if d[0] == 'Consistency':\n",
    "        #    cons,noCons,muestra = DQf.consistency(datos, clean=False)\n",
    "        #    if not pd.isna(cons):\n",
    "        #        DQ_dim['Consistency'] = cons\n",
    "\n",
    "        if d[0] == 'Uniqueness':\n",
    "            uniq, _, muestra = DQf.uniqueness(datos, clean=False)\n",
    "            if not pd.isna(uniq):\n",
    "                DQ_dim['Uniqueness'] = uniq\n",
    "\n",
    "        if d[0] == 'Redundancy':\n",
    "            red,_,muestra = DQf.redundancy(datos, clean=False)\n",
    "            if not pd.isna(red):\n",
    "                DQ_dim['Redundancy'] = red\n",
    "\n",
    "        #if d[0] == 'Volume':\n",
    "        #    vol,muestra = DQf.volume(datos, clean=False)\n",
    "        #    if not pd.isna(vol):\n",
    "        #        DQ_dim['Volume'] = vol\n",
    "\n",
    "        if d[0] == 'Precision':\n",
    "            prec,muestra = DQf.precision(datos)\n",
    "            if not pd.isna(prec):\n",
    "                DQ_dim['Precision'] = prec\n",
    "\n",
    "        #if d[0] == 'Outliers':\n",
    "        #    out,muestra = DQf.outliers(datos)\n",
    "        #    if not pd.isna(out):\n",
    "        #        DQ_dim['Outliers'] = out   \n",
    "\n",
    "        if d[0] == 'Uncertainty':\n",
    "            unc,muestra = DQf.uncertainty(datos, ref)\n",
    "            if not pd.isna(unc):\n",
    "                DQ_dim['Uncertainty'] = unc\n",
    "        \n",
    "        if d[0] == 'Accuracy':\n",
    "            acc,muestra = DQf.accuracy(datos, ref)\n",
    "            if not pd.isna(acc):\n",
    "                DQ_dim['Accuracy'] = acc\n",
    "        \n",
    "        if d[0] == 'Concordance':\n",
    "            conc,muestra = DQf.concordance(datos, ref)\n",
    "            if not pd.isna(conc):\n",
    "                DQ_dim['Concordance'] = conc\n",
    "\n"
   ]
  },
  {
   "cell_type": "markdown",
   "metadata": {},
   "source": [
    "### Step 5 - DQIndex Calculation"
   ]
  },
  {
   "cell_type": "code",
   "execution_count": null,
   "metadata": {},
   "outputs": [],
   "source": [
    "\n",
    "\n",
    "DQ_Index = 0\n",
    "for d in DQ_dim.keys():\n",
    "    DQ_Index += round((frame.dimensions[d]/sum(frame.dimensions.values())*DQ_dim[d]),2)\n",
    "print(DQ_dim)\n",
    "print('DQ_index:',round(DQ_Index,2))\n",
    "\n",
    "\n",
    "dims = list(DQ_dim.keys())\n",
    "dims = [*dims, dims[0]]\n",
    "\n",
    "scores = list(DQ_dim.values())\n",
    "scores = [*scores, scores[0]]\n",
    "\n",
    "label_loc = np.linspace(start=0, stop=2 * np.pi, num=len(dims))\n",
    "\n",
    "plt.figure(figsize=(6,6))\n",
    "plt.subplot(polar=True)\n",
    "plt.plot(label_loc, scores, 'o-')\n",
    "plt.title('Dimensions', size=20)\n",
    "plt.thetagrids(np.degrees(label_loc), labels=dims)\n",
    "plt.fill(label_loc, scores, alpha=0.25)\n",
    "plt.yticks([0.1,0.2,0.3,0.4,0.5,0.6,0.7,0.8,0.9,1])\n",
    "plt.ylim(0,1)\n",
    "#plt.savefig('ideal_lvl1.svg', format='svg')\n",
    "plt.show()"
   ]
  }
 ],
 "metadata": {
  "kernelspec": {
   "display_name": "base",
   "language": "python",
   "name": "python3"
  },
  "language_info": {
   "codemirror_mode": {
    "name": "ipython",
    "version": 3
   },
   "file_extension": ".py",
   "mimetype": "text/x-python",
   "name": "python",
   "nbconvert_exporter": "python",
   "pygments_lexer": "ipython3",
   "version": "3.9.7"
  },
  "orig_nbformat": 4,
  "vscode": {
   "interpreter": {
    "hash": "7563fc23a67347b817ff35caf6513d9bc5c54dd304f53e77ac1192a8a3e8c7a6"
   }
  }
 },
 "nbformat": 4,
 "nbformat_minor": 2
}

{
 "cells": [
  {
   "cell_type": "code",
   "execution_count": 3,
   "metadata": {},
   "outputs": [],
   "source": [
    "# Verificando correlaciones de variables (pm25 con humedad relativa y temperatura)\n",
    "\n",
    "import pandas as pd\n",
    "import numpy as np\n",
    "import funciones_FS as f_FS\n",
    "import funciones_TS as f_TS\n",
    "import DQM as f_DQM\n",
    "import funciones_DF as f_DF\n",
    "import warnings\n",
    "import importlib\n",
    "\n",
    "# Ignore the warning, can comment this \n",
    "warnings.filterwarnings(\"ignore\")\n",
    "pd.options.mode.chained_assignment = None  # default='warn' --- Para quitar los warnings de pandas y python\n",
    "#tf.compat.v1.logging.set_verbosity(tf.compat.v1.logging.ERROR) # Quitar warnings tensorflow\n",
    "pd.set_option(\"display.precision\", 4)  # Todos los valores de los dataframe de pandas tendrán 4 decimales\n",
    "\n",
    "ruta = \"F:/PhD/Datos SIATA/Análisis/Descriptivo/Datos/\"\n",
    "df_CS = pd.read_csv(ruta+\"datosCoordenados_CS.csv\",sep=\",\")"
   ]
  },
  {
   "cell_type": "code",
   "execution_count": 42,
   "metadata": {},
   "outputs": [],
   "source": [
    "nodos = df_CS['codigoSerial'].unique().tolist()\n",
    "tem_df = []\n",
    "tem_nova = []\n",
    "hum_df = []\n",
    "hum_nova = []\n",
    "\n",
    "for n in nodos:\n",
    "    datos = df_CS[df_CS['codigoSerial'] == n]\n",
    "    correlacion = datos[['temperatura', 'humedad_relativa', 'pm25_df', 'pm25_nova']].corr()\n",
    "    tem_df.append(abs(correlacion['temperatura']['pm25_df']))\n",
    "    tem_nova.append(abs(correlacion['temperatura']['pm25_nova']))\n",
    "    hum_df.append(abs(correlacion['humedad_relativa']['pm25_df']))\n",
    "    hum_nova.append(abs(correlacion['humedad_relativa']['pm25_nova']))\n"
   ]
  },
  {
   "cell_type": "code",
   "execution_count": 48,
   "metadata": {},
   "outputs": [
    {
     "data": {
      "text/plain": [
       "53"
      ]
     },
     "execution_count": 48,
     "metadata": {},
     "output_type": "execute_result"
    }
   ],
   "source": [
    "correlacion = pd.DataFrame()\n",
    "correlacion['nodos'] = nodos\n",
    "correlacion['tem_df'] = tem_df\n",
    "correlacion['tem_nova'] = tem_nova\n",
    "correlacion['hum_df'] = hum_df\n",
    "correlacion['hum_nova'] = hum_nova\n",
    "correlacion[correlacion['hum_df'] > 0.5].__len__()"
   ]
  },
  {
   "cell_type": "code",
   "execution_count": 11,
   "metadata": {},
   "outputs": [
    {
     "data": {
      "text/plain": [
       "50"
      ]
     },
     "execution_count": 11,
     "metadata": {},
     "output_type": "execute_result"
    }
   ],
   "source": [
    "import numpy as np\n",
    "y = np.array([1,2,3,4])\n",
    "x = np.array([7,8,9,0])\n",
    "c = y*x\n",
    "d = np.dot(x,y)\n",
    "d"
   ]
  }
 ],
 "metadata": {
  "kernelspec": {
   "display_name": "base",
   "language": "python",
   "name": "python3"
  },
  "language_info": {
   "codemirror_mode": {
    "name": "ipython",
    "version": 3
   },
   "file_extension": ".py",
   "mimetype": "text/x-python",
   "name": "python",
   "nbconvert_exporter": "python",
   "pygments_lexer": "ipython3",
   "version": "3.9.7"
  },
  "orig_nbformat": 4,
  "vscode": {
   "interpreter": {
    "hash": "7563fc23a67347b817ff35caf6513d9bc5c54dd304f53e77ac1192a8a3e8c7a6"
   }
  }
 },
 "nbformat": 4,
 "nbformat_minor": 2
}

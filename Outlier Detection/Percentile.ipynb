{
 "cells": [
  {
   "cell_type": "code",
   "execution_count": 1,
   "metadata": {},
   "outputs": [],
   "source": [
    "import pandas as pd\n",
    "\n",
    "from funciones_OD import *\n",
    "\n",
    "ruta = \"G:/PhD/Datos SIATA/Análisis/Descriptivo/\"\n",
    "archivo = \"DF\"\n",
    "datos = pd.read_csv(ruta+\"test_\"+archivo+\"_outliers_N.csv\",sep=\",\")\n",
    "#datos = pd.read_csv(ruta+\"test_outliers.csv\",sep=\",\")\n",
    "\n",
    "variables = ['pm25']#,'humedad_relativa', 'temperatura'\n"
   ]
  },
  {
   "cell_type": "code",
   "execution_count": 2,
   "metadata": {},
   "outputs": [
    {
     "name": "stdout",
     "output_type": "stream",
     "text": [
      "Nodo: 2 Faltan: 0\n"
     ]
    }
   ],
   "source": [
    "pd.options.mode.chained_assignment = None  # default='warn' --- Para quitar los warnings\n",
    "datos2 = datos.copy()\n",
    "datos2=datos2.assign(Percentile=\"N\") # Se agrega columna vacia\n",
    "ident_outliers = pd.DataFrame()\n",
    "\n",
    "fechas = datos2.fecha.unique().tolist()\n",
    "nodos = datos2.codigoSerial.unique().tolist()\n",
    "percentil = 80\n",
    "margen = 10\n",
    "\n",
    "#cont=1\n",
    "for i in nodos:\n",
    "    print(\"Nodo:\",i, \"Faltan:\", (len(nodos)-nodos.index(i))-1)\n",
    "    #print(\"Conteo:\",cont)\n",
    "    fild = datos2.loc[datos2.loc[:,\"codigoSerial\"] == i]\n",
    "    \n",
    "    for j in fechas:\n",
    "       \n",
    "        fil = fild.loc[fild.loc[:,\"fecha\"] == j]\n",
    "        fil.reset_index(inplace=True, drop=True)\n",
    "        \n",
    "        if (len(fil)<=0):\n",
    "            #print(\"No hay datos del nodo\", i, \"en la fecha\", j)\n",
    "            continue\n",
    "        \n",
    "        for sensor in variables:\n",
    "            percen = np.percentile(fil[sensor],[percentil])\n",
    "            #print(percen)\n",
    "        \n",
    "            for k in range(1,len(fil)):\n",
    "                #cont += 1\n",
    "                if (fil[sensor][k] > percen) and ((abs(fil[sensor][k] - fil[sensor][k-1])>margen) or (fil['Percentile'][k-1] == \"S\")):\n",
    "                    #print(\"yo\")\n",
    "                    fil.loc[k,('Percentile')]= \"S\"\n",
    "                              \n",
    "                \n",
    "                        \n",
    "        ident_outliers = pd.concat([ident_outliers,fil],ignore_index=True)\n"
   ]
  },
  {
   "cell_type": "code",
   "execution_count": 28,
   "metadata": {},
   "outputs": [
    {
     "name": "stdout",
     "output_type": "stream",
     "text": [
      "TP: 3761 TN: 32518 FP: 2165 FN: 93\n",
      "Datos totales: 38537\n",
      "*************************************\n",
      "Precisión: 0.6346608167397908\n",
      "Exhaustividad: 0.9758692267773742\n",
      "F1: 0.7691206543967282\n",
      "F1: 0.769120654396728\n",
      "Exactitud: 0.941406959545372\n",
      "\n"
     ]
    },
    {
     "data": {
      "text/plain": [
       "(32518, 93, 2165, 3761)"
      ]
     },
     "execution_count": 28,
     "metadata": {},
     "output_type": "execute_result"
    }
   ],
   "source": [
    "matrix_conf (ident_outliers,'Percentile')\n",
    "#ident_outliers[ident_outliers['Percentile'] == 'S']\n",
    "#ident_outliers"
   ]
  },
  {
   "cell_type": "code",
   "execution_count": 4,
   "metadata": {},
   "outputs": [
    {
     "name": "stdout",
     "output_type": "stream",
     "text": [
      "Precisión: 0.6346608167397908\n",
      "Exhaustividad: 0.9758692267773742\n",
      "F1: 0.7691206543967282\n",
      "Exactitud: 0.941406959545372\n",
      "\n"
     ]
    },
    {
     "data": {
      "image/png": "[encoded data removed]",
      "text/plain": [
       "<Figure size 576x288 with 1 Axes>"
      ]
     },
     "metadata": {
      "needs_background": "light"
     },
     "output_type": "display_data"
    }
   ],
   "source": [
    "real = ident_outliers.pm25_outlier.tolist()\n",
    "real = ['S' if value!='N' else value for value in real]\n",
    "predicho = ident_outliers.Percentile.tolist()\n",
    "confu_matrix (real,predicho)"
   ]
  }
 ],
 "metadata": {
  "interpreter": {
   "hash": "2cef25412dcd12512c36e169907c82a069a1f5784b7f17e43c2f111cf046647b"
  },
  "kernelspec": {
   "display_name": "Python 3.8.10 64-bit ('base': conda)",
   "name": "python3"
  },
  "language_info": {
   "codemirror_mode": {
    "name": "ipython",
    "version": 3
   },
   "file_extension": ".py",
   "mimetype": "text/x-python",
   "name": "python",
   "nbconvert_exporter": "python",
   "pygments_lexer": "ipython3",
   "version": "3.8.10"
  },
  "orig_nbformat": 4
 },
 "nbformat": 4,
 "nbformat_minor": 2
}
